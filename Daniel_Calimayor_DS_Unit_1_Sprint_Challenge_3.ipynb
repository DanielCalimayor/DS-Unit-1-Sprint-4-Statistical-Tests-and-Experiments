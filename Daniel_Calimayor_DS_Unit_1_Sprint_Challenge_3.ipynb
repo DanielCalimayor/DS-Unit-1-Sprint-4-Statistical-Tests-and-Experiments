{
  "nbformat": 4,
  "nbformat_minor": 0,
  "metadata": {
    "colab": {
      "name": "Daniel Calimayor_DS_Unit_1_Sprint_Challenge_3.ipynb",
      "version": "0.3.2",
      "provenance": [],
      "collapsed_sections": [],
      "include_colab_link": true
    },
    "kernelspec": {
      "name": "python3",
      "display_name": "Python 3"
    }
  },
  "cells": [
    {
      "cell_type": "markdown",
      "metadata": {
        "id": "view-in-github",
        "colab_type": "text"
      },
      "source": [
        "<a href=\"https://colab.research.google.com/github/DanielCalimayor/DS-Unit-1-Sprint-4-Statistical-Tests-and-Experiments/blob/master/Daniel_Calimayor_DS_Unit_1_Sprint_Challenge_3.ipynb\" target=\"_parent\"><img src=\"https://colab.research.google.com/assets/colab-badge.svg\" alt=\"Open In Colab\"/></a>"
      ]
    },
    {
      "cell_type": "markdown",
      "metadata": {
        "id": "NooAiTdnafkz",
        "colab_type": "text"
      },
      "source": [
        "# Data Science Unit 1 Sprint Challenge 4\n",
        "\n",
        "## Exploring Data, Testing Hypotheses\n",
        "\n",
        "In this sprint challenge you will look at a dataset of people being approved or rejected for credit.\n",
        "\n",
        "https://archive.ics.uci.edu/ml/datasets/Credit+Approval\n",
        "\n",
        "Data Set Information: This file concerns credit card applications. All attribute names and values have been changed to meaningless symbols to protect confidentiality of the data. This dataset is interesting because there is a good mix of attributes -- continuous, nominal with small numbers of values, and nominal with larger numbers of values. There are also a few missing values.\n",
        "\n",
        "Attribute Information:\n",
        "- A1: b, a.\n",
        "- A2: continuous.\n",
        "- A3: continuous.\n",
        "- A4: u, y, l, t.\n",
        "- A5: g, p, gg.\n",
        "- A6: c, d, cc, i, j, k, m, r, q, w, x, e, aa, ff.\n",
        "- A7: v, h, bb, j, n, z, dd, ff, o.\n",
        "- A8: continuous.\n",
        "- A9: t, f.\n",
        "- A10: t, f.\n",
        "- A11: continuous.\n",
        "- A12: t, f.\n",
        "- A13: g, p, s.\n",
        "- A14: continuous.\n",
        "- A15: continuous.\n",
        "- A16: +,- (class attribute)\n",
        "\n",
        "Yes, most of that doesn't mean anything. A16 (the class attribute) is the most interesting, as it separates the 307 approved cases from the 383 rejected cases. The remaining variables have been obfuscated for privacy - a challenge you may have to deal with in your data science career.\n",
        "\n",
        "Sprint challenges are evaluated based on satisfactory completion of each part. It is suggested you work through it in order, getting each aspect reasonably working, before trying to deeply explore, iterate, or refine any given step. Once you get to the end, if you want to go back and improve things, go for it!"
      ]
    },
    {
      "cell_type": "markdown",
      "metadata": {
        "id": "5wch6ksCbJtZ",
        "colab_type": "text"
      },
      "source": [
        "## Part 1 - Load and validate the data\n",
        "\n",
        "- Load the data as a `pandas` data frame.\n",
        "- Validate that it has the appropriate number of observations (you can check the raw file, and also read the dataset description from UCI).\n",
        "- UCI says there should be missing data - check, and if necessary change the data so pandas recognizes it as na\n",
        "- Make sure that the loaded features are of the types described above (continuous values should be treated as float), and correct as necessary\n",
        "\n",
        "This is review, but skills that you'll use at the start of any data exploration. Further, you may have to do some investigation to figure out which file to load from - that is part of the puzzle."
      ]
    },
    {
      "cell_type": "code",
      "metadata": {
        "id": "Q79xDLckzibS",
        "colab_type": "code",
        "colab": {}
      },
      "source": [
        "import pandas as pd\n",
        "import numpy as np"
      ],
      "execution_count": 0,
      "outputs": []
    },
    {
      "cell_type": "code",
      "metadata": {
        "id": "TRjjFIH8SiEa",
        "colab_type": "code",
        "outputId": "adb3234c-450d-4ec3-c757-0ce119355edb",
        "colab": {
          "resources": {
            "http://localhost:8080/nbextensions/google.colab/files.js": {
              "data": "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",
              "ok": true,
              "headers": [
                [
                  "content-type",
                  "application/javascript"
                ]
              ],
              "status": 200,
              "status_text": ""
            }
          },
          "base_uri": "https://localhost:8080/",
          "height": 108
        }
      },
      "source": [
        "from google.colab import files\n",
        "files.upload()"
      ],
      "execution_count": 0,
      "outputs": [
        {
          "output_type": "display_data",
          "data": {
            "text/html": [
              "\n",
              "     <input type=\"file\" id=\"files-6a37b870-04c6-4751-8a52-3db6b6121147\" name=\"files[]\" multiple disabled />\n",
              "     <output id=\"result-6a37b870-04c6-4751-8a52-3db6b6121147\">\n",
              "      Upload widget is only available when the cell has been executed in the\n",
              "      current browser session. Please rerun this cell to enable.\n",
              "      </output>\n",
              "      <script src=\"/nbextensions/google.colab/files.js\"></script> "
            ],
            "text/plain": [
              "<IPython.core.display.HTML object>"
            ]
          },
          "metadata": {
            "tags": []
          }
        },
        {
          "output_type": "stream",
          "text": [
            "Saving crx.data to crx (4).data\n"
          ],
          "name": "stdout"
        },
        {
          "output_type": "execute_result",
          "data": {
            "text/plain": [
              "{'crx.data': b'b,30.83,0,u,g,w,v,1.25,t,t,01,f,g,00202,0,+\\na,58.67,4.46,u,g,q,h,3.04,t,t,06,f,g,00043,560,+\\na,24.50,0.5,u,g,q,h,1.5,t,f,0,f,g,00280,824,+\\nb,27.83,1.54,u,g,w,v,3.75,t,t,05,t,g,00100,3,+\\nb,20.17,5.625,u,g,w,v,1.71,t,f,0,f,s,00120,0,+\\nb,32.08,4,u,g,m,v,2.5,t,f,0,t,g,00360,0,+\\nb,33.17,1.04,u,g,r,h,6.5,t,f,0,t,g,00164,31285,+\\na,22.92,11.585,u,g,cc,v,0.04,t,f,0,f,g,00080,1349,+\\nb,54.42,0.5,y,p,k,h,3.96,t,f,0,f,g,00180,314,+\\nb,42.50,4.915,y,p,w,v,3.165,t,f,0,t,g,00052,1442,+\\nb,22.08,0.83,u,g,c,h,2.165,f,f,0,t,g,00128,0,+\\nb,29.92,1.835,u,g,c,h,4.335,t,f,0,f,g,00260,200,+\\na,38.25,6,u,g,k,v,1,t,f,0,t,g,00000,0,+\\nb,48.08,6.04,u,g,k,v,0.04,f,f,0,f,g,00000,2690,+\\na,45.83,10.5,u,g,q,v,5,t,t,07,t,g,00000,0,+\\nb,36.67,4.415,y,p,k,v,0.25,t,t,10,t,g,00320,0,+\\nb,28.25,0.875,u,g,m,v,0.96,t,t,03,t,g,00396,0,+\\na,23.25,5.875,u,g,q,v,3.17,t,t,10,f,g,00120,245,+\\nb,21.83,0.25,u,g,d,h,0.665,t,f,0,t,g,00000,0,+\\na,19.17,8.585,u,g,cc,h,0.75,t,t,07,f,g,00096,0,+\\nb,25.00,11.25,u,g,c,v,2.5,t,t,17,f,g,00200,1208,+\\nb,23.25,1,u,g,c,v,0.835,t,f,0,f,s,00300,0,+\\na,47.75,8,u,g,c,v,7.875,t,t,06,t,g,00000,1260,+\\na,27.42,14.5,u,g,x,h,3.085,t,t,01,f,g,00120,11,+\\na,41.17,6.5,u,g,q,v,0.5,t,t,03,t,g,00145,0,+\\na,15.83,0.585,u,g,c,h,1.5,t,t,02,f,g,00100,0,+\\na,47.00,13,u,g,i,bb,5.165,t,t,09,t,g,00000,0,+\\nb,56.58,18.5,u,g,d,bb,15,t,t,17,t,g,00000,0,+\\nb,57.42,8.5,u,g,e,h,7,t,t,03,f,g,00000,0,+\\nb,42.08,1.04,u,g,w,v,5,t,t,06,t,g,00500,10000,+\\nb,29.25,14.79,u,g,aa,v,5.04,t,t,05,t,g,00168,0,+\\nb,42.00,9.79,u,g,x,h,7.96,t,t,08,f,g,00000,0,+\\nb,49.50,7.585,u,g,i,bb,7.585,t,t,15,t,g,00000,5000,+\\na,36.75,5.125,u,g,e,v,5,t,f,0,t,g,00000,4000,+\\na,22.58,10.75,u,g,q,v,0.415,t,t,05,t,g,00000,560,+\\nb,27.83,1.5,u,g,w,v,2,t,t,11,t,g,00434,35,+\\nb,27.25,1.585,u,g,cc,h,1.835,t,t,12,t,g,00583,713,+\\na,23.00,11.75,u,g,x,h,0.5,t,t,02,t,g,00300,551,+\\nb,27.75,0.585,y,p,cc,v,0.25,t,t,02,f,g,00260,500,+\\nb,54.58,9.415,u,g,ff,ff,14.415,t,t,11,t,g,00030,300,+\\nb,34.17,9.17,u,g,c,v,4.5,t,t,12,t,g,00000,221,+\\nb,28.92,15,u,g,c,h,5.335,t,t,11,f,g,00000,2283,+\\nb,29.67,1.415,u,g,w,h,0.75,t,t,01,f,g,00240,100,+\\nb,39.58,13.915,u,g,w,v,8.625,t,t,06,t,g,00070,0,+\\nb,56.42,28,y,p,c,v,28.5,t,t,40,f,g,00000,15,+\\nb,54.33,6.75,u,g,c,h,2.625,t,t,11,t,g,00000,284,+\\na,41.00,2.04,y,p,q,h,0.125,t,t,23,t,g,00455,1236,+\\nb,31.92,4.46,u,g,cc,h,6.04,t,t,03,f,g,00311,300,+\\nb,41.50,1.54,u,g,i,bb,3.5,f,f,0,f,g,00216,0,+\\nb,23.92,0.665,u,g,c,v,0.165,f,f,0,f,g,00100,0,+\\na,25.75,0.5,u,g,c,h,0.875,t,f,0,t,g,00491,0,+\\nb,26.00,1,u,g,q,v,1.75,t,f,0,t,g,00280,0,+\\nb,37.42,2.04,u,g,w,v,0.04,t,f,0,t,g,00400,5800,+\\nb,34.92,2.5,u,g,w,v,0,t,f,0,t,g,00239,200,+\\nb,34.25,3,u,g,cc,h,7.415,t,f,0,t,g,00000,0,+\\nb,23.33,11.625,y,p,w,v,0.835,t,f,0,t,g,00160,300,+\\nb,23.17,0,u,g,cc,v,0.085,t,f,0,f,g,00000,0,+\\nb,44.33,0.5,u,g,i,h,5,t,f,0,t,g,00320,0,+\\nb,35.17,4.5,u,g,x,h,5.75,f,f,0,t,s,00711,0,+\\nb,43.25,3,u,g,q,h,6,t,t,11,f,g,00080,0,+\\nb,56.75,12.25,u,g,m,v,1.25,t,t,04,t,g,00200,0,+\\nb,31.67,16.165,u,g,d,v,3,t,t,09,f,g,00250,730,+\\na,23.42,0.79,y,p,q,v,1.5,t,t,02,t,g,00080,400,+\\na,20.42,0.835,u,g,q,v,1.585,t,t,01,f,g,00000,0,+\\nb,26.67,4.25,u,g,cc,v,4.29,t,t,01,t,g,00120,0,+\\nb,34.17,1.54,u,g,cc,v,1.54,t,t,01,t,g,00520,50000,+\\na,36.00,1,u,g,c,v,2,t,t,11,f,g,00000,456,+\\nb,25.50,0.375,u,g,m,v,0.25,t,t,03,f,g,00260,15108,+\\nb,19.42,6.5,u,g,w,h,1.46,t,t,07,f,g,00080,2954,+\\nb,35.17,25.125,u,g,x,h,1.625,t,t,01,t,g,00515,500,+\\nb,32.33,7.5,u,g,e,bb,1.585,t,f,0,t,s,00420,0,-\\nb,34.83,4,u,g,d,bb,12.5,t,f,0,t,g,?,0,-\\na,38.58,5,u,g,cc,v,13.5,t,f,0,t,g,00980,0,-\\nb,44.25,0.5,u,g,m,v,10.75,t,f,0,f,s,00400,0,-\\nb,44.83,7,y,p,c,v,1.625,f,f,0,f,g,00160,2,-\\nb,20.67,5.29,u,g,q,v,0.375,t,t,01,f,g,00160,0,-\\nb,34.08,6.5,u,g,aa,v,0.125,t,f,0,t,g,00443,0,-\\na,19.17,0.585,y,p,aa,v,0.585,t,f,0,t,g,00160,0,-\\nb,21.67,1.165,y,p,k,v,2.5,t,t,01,f,g,00180,20,-\\nb,21.50,9.75,u,g,c,v,0.25,t,f,0,f,g,00140,0,-\\nb,49.58,19,u,g,ff,ff,0,t,t,01,f,g,00094,0,-\\na,27.67,1.5,u,g,m,v,2,t,f,0,f,s,00368,0,-\\nb,39.83,0.5,u,g,m,v,0.25,t,f,0,f,s,00288,0,-\\na,?,3.5,u,g,d,v,3,t,f,0,t,g,00300,0,-\\nb,27.25,0.625,u,g,aa,v,0.455,t,f,0,t,g,00200,0,-\\nb,37.17,4,u,g,c,bb,5,t,f,0,t,s,00280,0,-\\nb,?,0.375,u,g,d,v,0.875,t,f,0,t,s,00928,0,-\\nb,25.67,2.21,y,p,aa,v,4,t,f,0,f,g,00188,0,-\\nb,34.00,4.5,u,g,aa,v,1,t,f,0,t,g,00240,0,-\\na,49.00,1.5,u,g,j,j,0,t,f,0,t,g,00100,27,-\\nb,62.50,12.75,y,p,c,h,5,t,f,0,f,g,00112,0,-\\nb,31.42,15.5,u,g,c,v,0.5,t,f,0,f,g,00120,0,-\\nb,?,5,y,p,aa,v,8.5,t,f,0,f,g,00000,0,-\\nb,52.33,1.375,y,p,c,h,9.46,t,f,0,t,g,00200,100,-\\nb,28.75,1.5,y,p,c,v,1.5,t,f,0,t,g,00000,225,-\\na,28.58,3.54,u,g,i,bb,0.5,t,f,0,t,g,00171,0,-\\nb,23.00,0.625,y,p,aa,v,0.125,t,f,0,f,g,00180,1,-\\nb,?,0.5,u,g,c,bb,0.835,t,f,0,t,s,00320,0,-\\na,22.50,11,y,p,q,v,3,t,f,0,t,g,00268,0,-\\na,28.50,1,u,g,q,v,1,t,t,02,t,g,00167,500,-\\nb,37.50,1.75,y,p,c,bb,0.25,t,f,0,t,g,00164,400,-\\nb,35.25,16.5,y,p,c,v,4,t,f,0,f,g,00080,0,-\\nb,18.67,5,u,g,q,v,0.375,t,t,02,f,g,00000,38,-\\nb,25.00,12,u,g,k,v,2.25,t,t,02,t,g,00120,5,-\\nb,27.83,4,y,p,i,h,5.75,t,t,02,t,g,00075,0,-\\nb,54.83,15.5,u,g,e,z,0,t,t,20,f,g,00152,130,-\\nb,28.75,1.165,u,g,k,v,0.5,t,f,0,f,s,00280,0,-\\na,25.00,11,y,p,aa,v,4.5,t,f,0,f,g,00120,0,-\\nb,40.92,2.25,y,p,x,h,10,t,f,0,t,g,00176,0,-\\na,19.75,0.75,u,g,c,v,0.795,t,t,05,t,g,00140,5,-\\nb,29.17,3.5,u,g,w,v,3.5,t,t,03,t,g,00329,0,-\\na,24.50,1.04,y,p,ff,ff,0.5,t,t,03,f,g,00180,147,-\\nb,24.58,12.5,u,g,w,v,0.875,t,f,0,t,g,00260,0,-\\na,33.75,0.75,u,g,k,bb,1,t,t,03,t,g,00212,0,-\\nb,20.67,1.25,y,p,c,h,1.375,t,t,03,t,g,00140,210,-\\na,25.42,1.125,u,g,q,v,1.29,t,t,02,f,g,00200,0,-\\nb,37.75,7,u,g,q,h,11.5,t,t,07,t,g,00300,5,-\\nb,52.50,6.5,u,g,k,v,6.29,t,t,15,f,g,00000,11202,+\\nb,57.83,7.04,u,g,m,v,14,t,t,06,t,g,00360,1332,+\\na,20.75,10.335,u,g,cc,h,0.335,t,t,01,t,g,00080,50,+\\nb,39.92,6.21,u,g,q,v,0.04,t,t,01,f,g,00200,300,+\\nb,25.67,12.5,u,g,cc,v,1.21,t,t,67,t,g,00140,258,+\\na,24.75,12.5,u,g,aa,v,1.5,t,t,12,t,g,00120,567,+\\na,44.17,6.665,u,g,q,v,7.375,t,t,03,t,g,00000,0,+\\na,23.50,9,u,g,q,v,8.5,t,t,05,t,g,00120,0,+\\nb,34.92,5,u,g,x,h,7.5,t,t,06,t,g,00000,1000,+\\nb,47.67,2.5,u,g,m,bb,2.5,t,t,12,t,g,00410,2510,+\\nb,22.75,11,u,g,q,v,2.5,t,t,07,t,g,00100,809,+\\nb,34.42,4.25,u,g,i,bb,3.25,t,t,02,f,g,00274,610,+\\na,28.42,3.5,u,g,w,v,0.835,t,f,0,f,s,00280,0,+\\nb,67.75,5.5,u,g,e,z,13,t,t,01,t,g,00000,0,+\\nb,20.42,1.835,u,g,c,v,2.25,t,t,01,f,g,00100,150,+\\na,47.42,8,u,g,e,bb,6.5,t,t,06,f,g,00375,51100,+\\nb,36.25,5,u,g,c,bb,2.5,t,t,06,f,g,00000,367,+\\nb,32.67,5.5,u,g,q,h,5.5,t,t,12,t,g,00408,1000,+\\nb,48.58,6.5,u,g,q,h,6,t,f,0,t,g,00350,0,+\\nb,39.92,0.54,y,p,aa,v,0.5,t,t,03,f,g,00200,1000,+\\nb,33.58,2.75,u,g,m,v,4.25,t,t,06,f,g,00204,0,+\\na,18.83,9.5,u,g,w,v,1.625,t,t,06,t,g,00040,600,+\\na,26.92,13.5,u,g,q,h,5,t,t,02,f,g,00000,5000,+\\na,31.25,3.75,u,g,cc,h,0.625,t,t,09,t,g,00181,0,+\\na,56.50,16,u,g,j,ff,0,t,t,15,f,g,00000,247,+\\nb,43.00,0.29,y,p,cc,h,1.75,t,t,08,f,g,00100,375,+\\nb,22.33,11,u,g,w,v,2,t,t,01,f,g,00080,278,+\\nb,27.25,1.665,u,g,cc,h,5.085,t,t,09,f,g,00399,827,+\\nb,32.83,2.5,u,g,cc,h,2.75,t,t,06,f,g,00160,2072,+\\nb,23.25,1.5,u,g,q,v,2.375,t,t,03,t,g,00000,582,+\\na,40.33,7.54,y,p,q,h,8,t,t,14,f,g,00000,2300,+\\na,30.50,6.5,u,g,c,bb,4,t,t,07,t,g,00000,3065,+\\na,52.83,15,u,g,c,v,5.5,t,t,14,f,g,00000,2200,+\\na,46.67,0.46,u,g,cc,h,0.415,t,t,11,t,g,00440,6,+\\na,58.33,10,u,g,q,v,4,t,t,14,f,g,00000,1602,+\\nb,37.33,6.5,u,g,m,h,4.25,t,t,12,t,g,00093,0,+\\nb,23.08,2.5,u,g,c,v,1.085,t,t,11,t,g,00060,2184,+\\nb,32.75,1.5,u,g,cc,h,5.5,t,t,03,t,g,00000,0,+\\na,21.67,11.5,y,p,j,j,0,t,t,11,t,g,00000,0,+\\na,28.50,3.04,y,p,x,h,2.54,t,t,01,f,g,00070,0,+\\na,68.67,15,u,g,e,z,0,t,t,14,f,g,00000,3376,+\\nb,28.00,2,u,g,k,h,4.165,t,t,02,t,g,00181,0,+\\nb,34.08,0.08,y,p,m,bb,0.04,t,t,01,t,g,00280,2000,+\\nb,27.67,2,u,g,x,h,1,t,t,04,f,g,00140,7544,+\\nb,44.00,2,u,g,m,v,1.75,t,t,02,t,g,00000,15,+\\nb,25.08,1.71,u,g,x,v,1.665,t,t,01,t,g,00395,20,+\\nb,32.00,1.75,y,p,e,h,0.04,t,f,0,t,g,00393,0,+\\na,60.58,16.5,u,g,q,v,11,t,f,0,t,g,00021,10561,+\\na,40.83,10,u,g,q,h,1.75,t,f,0,f,g,00029,837,+\\nb,19.33,9.5,u,g,q,v,1,t,f,0,t,g,00060,400,+\\na,32.33,0.54,u,g,cc,v,0.04,t,f,0,f,g,00440,11177,+\\nb,36.67,3.25,u,g,q,h,9,t,f,0,t,g,00102,639,+\\nb,37.50,1.125,y,p,d,v,1.5,f,f,0,t,g,00431,0,+\\na,25.08,2.54,y,p,aa,v,0.25,t,f,0,t,g,00370,0,+\\nb,41.33,0,u,g,c,bb,15,t,f,0,f,g,00000,0,+\\nb,56.00,12.5,u,g,k,h,8,t,f,0,t,g,00024,2028,+\\na,49.83,13.585,u,g,k,h,8.5,t,f,0,t,g,00000,0,+\\nb,22.67,10.5,u,g,q,h,1.335,t,f,0,f,g,00100,0,+\\nb,27.00,1.5,y,p,w,v,0.375,t,f,0,t,g,00260,1065,+\\nb,25.00,12.5,u,g,aa,v,3,t,f,0,t,s,00020,0,+\\na,26.08,8.665,u,g,aa,v,1.415,t,f,0,f,g,00160,150,+\\na,18.42,9.25,u,g,q,v,1.21,t,t,04,f,g,00060,540,+\\nb,20.17,8.17,u,g,aa,v,1.96,t,t,14,f,g,00060,158,+\\nb,47.67,0.29,u,g,c,bb,15,t,t,20,f,g,00000,15000,+\\na,21.25,2.335,u,g,i,bb,0.5,t,t,04,f,s,00080,0,+\\na,20.67,3,u,g,q,v,0.165,t,t,03,f,g,00100,6,+\\na,57.08,19.5,u,g,c,v,5.5,t,t,07,f,g,00000,3000,+\\na,22.42,5.665,u,g,q,v,2.585,t,t,07,f,g,00129,3257,+\\nb,48.75,8.5,u,g,c,h,12.5,t,t,09,f,g,00181,1655,+\\nb,40.00,6.5,u,g,aa,bb,3.5,t,t,01,f,g,00000,500,+\\nb,40.58,5,u,g,c,v,5,t,t,07,f,g,00000,3065,+\\na,28.67,1.04,u,g,c,v,2.5,t,t,05,t,g,00300,1430,+\\na,33.08,4.625,u,g,q,h,1.625,t,t,02,f,g,00000,0,+\\nb,21.33,10.5,u,g,c,v,3,t,f,0,t,g,00000,0,+\\nb,42.00,0.205,u,g,i,h,5.125,t,f,0,f,g,00400,0,+\\nb,41.75,0.96,u,g,x,v,2.5,t,f,0,f,g,00510,600,+\\nb,22.67,1.585,y,p,w,v,3.085,t,t,06,f,g,00080,0,+\\nb,34.50,4.04,y,p,i,bb,8.5,t,t,07,t,g,00195,0,+\\nb,28.25,5.04,y,p,c,bb,1.5,t,t,08,t,g,00144,7,+\\nb,33.17,3.165,y,p,x,v,3.165,t,t,03,t,g,00380,0,+\\nb,48.17,7.625,u,g,w,h,15.5,t,t,12,f,g,00000,790,+\\nb,27.58,2.04,y,p,aa,v,2,t,t,03,t,g,00370,560,+\\nb,22.58,10.04,u,g,x,v,0.04,t,t,09,f,g,00060,396,+\\na,24.08,0.5,u,g,q,h,1.25,t,t,01,f,g,00000,678,+\\na,41.33,1,u,g,i,bb,2.25,t,f,0,t,g,00000,300,+\\nb,24.83,2.75,u,g,c,v,2.25,t,t,06,f,g,?,600,+\\na,20.75,10.25,u,g,q,v,0.71,t,t,02,t,g,00049,0,+\\nb,36.33,2.125,y,p,w,v,0.085,t,t,01,f,g,00050,1187,+\\na,35.42,12,u,g,q,h,14,t,t,08,f,g,00000,6590,+\\na,71.58,0,?,?,?,?,0,f,f,0,f,p,?,0,+\\nb,28.67,9.335,u,g,q,h,5.665,t,t,06,f,g,00381,168,+\\nb,35.17,2.5,u,g,k,v,4.5,t,t,07,f,g,00150,1270,+\\nb,39.50,4.25,u,g,c,bb,6.5,t,t,16,f,g,00117,1210,+\\nb,39.33,5.875,u,g,cc,h,10,t,t,14,t,g,00399,0,+\\nb,24.33,6.625,y,p,d,v,5.5,t,f,0,t,s,00100,0,+\\nb,60.08,14.5,u,g,ff,ff,18,t,t,15,t,g,00000,1000,+\\nb,23.08,11.5,u,g,i,v,3.5,t,t,09,f,g,00056,742,+\\nb,26.67,2.71,y,p,cc,v,5.25,t,t,01,f,g,00211,0,+\\nb,48.17,3.5,u,g,aa,v,3.5,t,f,0,f,s,00230,0,+\\nb,41.17,4.04,u,g,cc,h,7,t,t,08,f,g,00320,0,+\\nb,55.92,11.5,u,g,ff,ff,5,t,t,05,f,g,00000,8851,+\\nb,53.92,9.625,u,g,e,v,8.665,t,t,05,f,g,00000,0,+\\na,18.92,9.25,y,p,c,v,1,t,t,04,t,g,00080,500,+\\na,50.08,12.54,u,g,aa,v,2.29,t,t,03,t,g,00156,0,+\\nb,65.42,11,u,g,e,z,20,t,t,07,t,g,00022,0,+\\na,17.58,9,u,g,aa,v,1.375,t,f,0,t,g,00000,0,+\\na,18.83,9.54,u,g,aa,v,0.085,t,f,0,f,g,00100,0,+\\na,37.75,5.5,u,g,q,v,0.125,t,f,0,t,g,00228,0,+\\nb,23.25,4,u,g,c,bb,0.25,t,f,0,t,g,00160,0,+\\nb,18.08,5.5,u,g,k,v,0.5,t,f,0,f,g,00080,0,+\\na,22.50,8.46,y,p,x,v,2.46,f,f,0,f,g,00164,0,+\\nb,19.67,0.375,u,g,q,v,2,t,t,02,t,g,00080,0,+\\nb,22.08,11,u,g,cc,v,0.665,t,f,0,f,g,00100,0,+\\nb,25.17,3.5,u,g,cc,v,0.625,t,t,07,f,g,00000,7059,+\\na,47.42,3,u,g,x,v,13.875,t,t,02,t,g,00519,1704,+\\nb,33.50,1.75,u,g,x,h,4.5,t,t,04,t,g,00253,857,+\\nb,27.67,13.75,u,g,w,v,5.75,t,f,0,t,g,00487,500,+\\na,58.42,21,u,g,i,bb,10,t,t,13,f,g,00000,6700,+\\na,20.67,1.835,u,g,q,v,2.085,t,t,05,f,g,00220,2503,+\\nb,26.17,0.25,u,g,i,bb,0,t,f,0,t,g,00000,0,+\\nb,21.33,7.5,u,g,aa,v,1.415,t,t,01,f,g,00080,9800,+\\nb,42.83,4.625,u,g,q,v,4.58,t,f,0,f,s,00000,0,+\\nb,38.17,10.125,u,g,x,v,2.5,t,t,06,f,g,00520,196,+\\nb,20.50,10,y,p,c,v,2.5,t,f,0,f,s,00040,0,+\\nb,48.25,25.085,u,g,w,v,1.75,t,t,03,f,g,00120,14,+\\nb,28.33,5,u,g,w,v,11,t,f,0,t,g,00070,0,+\\na,18.75,7.5,u,g,q,v,2.71,t,t,05,f,g,?,26726,+\\nb,18.50,2,u,g,i,v,1.5,t,t,02,f,g,00120,300,+\\nb,33.17,3.04,y,p,c,h,2.04,t,t,01,t,g,00180,18027,+\\nb,45.00,8.5,u,g,cc,h,14,t,t,01,t,g,00088,2000,+\\na,19.67,0.21,u,g,q,h,0.29,t,t,11,f,g,00080,99,+\\n?,24.50,12.75,u,g,c,bb,4.75,t,t,02,f,g,00073,444,+\\nb,21.83,11,u,g,x,v,0.29,t,t,06,f,g,00121,0,+\\nb,40.25,21.5,u,g,e,z,20,t,t,11,f,g,00000,1200,+\\nb,41.42,5,u,g,q,h,5,t,t,06,t,g,00470,0,+\\na,17.83,11,u,g,x,h,1,t,t,11,f,g,00000,3000,+\\nb,23.17,11.125,u,g,x,h,0.46,t,t,01,f,g,00100,0,+\\nb,?,0.625,u,g,k,v,0.25,f,f,0,f,g,00380,2010,-\\nb,18.17,10.25,u,g,c,h,1.085,f,f,0,f,g,00320,13,-\\nb,20.00,11.045,u,g,c,v,2,f,f,0,t,g,00136,0,-\\nb,20.00,0,u,g,d,v,0.5,f,f,0,f,g,00144,0,-\\na,20.75,9.54,u,g,i,v,0.04,f,f,0,f,g,00200,1000,-\\na,24.50,1.75,y,p,c,v,0.165,f,f,0,f,g,00132,0,-\\nb,32.75,2.335,u,g,d,h,5.75,f,f,0,t,g,00292,0,-\\na,52.17,0,y,p,ff,ff,0,f,f,0,f,g,00000,0,-\\na,48.17,1.335,u,g,i,o,0.335,f,f,0,f,g,00000,120,-\\na,20.42,10.5,y,p,x,h,0,f,f,0,t,g,00154,32,-\\nb,50.75,0.585,u,g,ff,ff,0,f,f,0,f,g,00145,0,-\\nb,17.08,0.085,y,p,c,v,0.04,f,f,0,f,g,00140,722,-\\nb,18.33,1.21,y,p,e,dd,0,f,f,0,f,g,00100,0,-\\na,32.00,6,u,g,d,v,1.25,f,f,0,f,g,00272,0,-\\nb,59.67,1.54,u,g,q,v,0.125,t,f,0,t,g,00260,0,+\\nb,18.00,0.165,u,g,q,n,0.21,f,f,0,f,g,00200,40,+\\nb,37.58,0,?,?,?,?,0,f,f,0,f,p,?,0,+\\nb,32.33,2.5,u,g,c,v,1.25,f,f,0,t,g,00280,0,-\\nb,18.08,6.75,y,p,m,v,0.04,f,f,0,f,g,00140,0,-\\nb,38.25,10.125,y,p,k,v,0.125,f,f,0,f,g,00160,0,-\\nb,30.67,2.5,u,g,cc,h,2.25,f,f,0,t,s,00340,0,-\\nb,18.58,5.71,u,g,d,v,0.54,f,f,0,f,g,00120,0,-\\na,19.17,5.415,u,g,i,h,0.29,f,f,0,f,g,00080,484,-\\na,18.17,10,y,p,q,h,0.165,f,f,0,f,g,00340,0,-\\nb,24.58,13.5,y,p,ff,ff,0,f,f,0,f,g,?,0,-\\nb,16.25,0.835,u,g,m,v,0.085,t,f,0,f,s,00200,0,-\\nb,21.17,0.875,y,p,c,h,0.25,f,f,0,f,g,00280,204,-\\nb,23.92,0.585,y,p,cc,h,0.125,f,f,0,f,g,00240,1,-\\nb,17.67,4.46,u,g,c,v,0.25,f,f,0,f,s,00080,0,-\\na,16.50,1.25,u,g,q,v,0.25,f,t,01,f,g,00108,98,-\\nb,23.25,12.625,u,g,c,v,0.125,f,t,02,f,g,00000,5552,-\\nb,17.58,10,u,g,w,h,0.165,f,t,01,f,g,00120,1,-\\na,?,1.5,u,g,ff,ff,0,f,t,02,t,g,00200,105,-\\nb,29.50,0.58,u,g,w,v,0.29,f,t,01,f,g,00340,2803,-\\nb,18.83,0.415,y,p,c,v,0.165,f,t,01,f,g,00200,1,-\\na,21.75,1.75,y,p,j,j,0,f,f,0,f,g,00160,0,-\\nb,23.00,0.75,u,g,m,v,0.5,f,f,0,t,s,00320,0,-\\na,18.25,10,u,g,w,v,1,f,t,01,f,g,00120,1,-\\nb,25.42,0.54,u,g,w,v,0.165,f,t,01,f,g,00272,444,-\\nb,35.75,2.415,u,g,w,v,0.125,f,t,02,f,g,00220,1,-\\na,16.08,0.335,u,g,ff,ff,0,f,t,01,f,g,00160,126,-\\na,31.92,3.125,u,g,ff,ff,3.04,f,t,02,t,g,00200,4,-\\nb,69.17,9,u,g,ff,ff,4,f,t,01,f,g,00070,6,-\\nb,32.92,2.5,u,g,aa,v,1.75,f,t,02,t,g,00720,0,-\\nb,16.33,2.75,u,g,aa,v,0.665,f,t,01,f,g,00080,21,-\\nb,22.17,12.125,u,g,c,v,3.335,f,t,02,t,g,00180,173,-\\na,57.58,2,u,g,ff,ff,6.5,f,t,01,f,g,00000,10,-\\nb,18.25,0.165,u,g,d,v,0.25,f,f,0,t,s,00280,0,-\\nb,23.42,1,u,g,c,v,0.5,f,f,0,t,s,00280,0,-\\na,15.92,2.875,u,g,q,v,0.085,f,f,0,f,g,00120,0,-\\na,24.75,13.665,u,g,q,h,1.5,f,f,0,f,g,00280,1,-\\nb,48.75,26.335,y,p,ff,ff,0,t,f,0,t,g,00000,0,-\\nb,23.50,2.75,u,g,ff,ff,4.5,f,f,0,f,g,00160,25,-\\nb,18.58,10.29,u,g,ff,ff,0.415,f,f,0,f,g,00080,0,-\\nb,27.75,1.29,u,g,k,h,0.25,f,f,0,t,s,00140,0,-\\na,31.75,3,y,p,j,j,0,f,f,0,f,g,00160,20,-\\na,24.83,4.5,u,g,w,v,1,f,f,0,t,g,00360,6,-\\nb,19.00,1.75,y,p,c,v,2.335,f,f,0,t,g,00112,6,-\\na,16.33,0.21,u,g,aa,v,0.125,f,f,0,f,g,00200,1,-\\na,18.58,10,u,g,d,v,0.415,f,f,0,f,g,00080,42,-\\nb,16.25,0,y,p,aa,v,0.25,f,f,0,f,g,00060,0,-\\nb,23.00,0.75,u,g,m,v,0.5,t,f,0,t,s,00320,0,-\\nb,21.17,0.25,y,p,c,h,0.25,f,f,0,f,g,00280,204,-\\nb,17.50,22,l,gg,ff,o,0,f,f,0,t,p,00450,100000,+\\nb,19.17,0,y,p,m,bb,0,f,f,0,t,s,00500,1,+\\nb,36.75,0.125,y,p,c,v,1.5,f,f,0,t,g,00232,113,+\\nb,21.25,1.5,u,g,w,v,1.5,f,f,0,f,g,00150,8,+\\na,18.08,0.375,l,gg,cc,ff,10,f,f,0,t,s,00300,0,+\\na,33.67,0.375,u,g,cc,v,0.375,f,f,0,f,g,00300,44,+\\nb,48.58,0.205,y,p,k,v,0.25,t,t,11,f,g,00380,2732,+\\nb,33.67,1.25,u,g,w,v,1.165,f,f,0,f,g,00120,0,-\\na,29.50,1.085,y,p,x,v,1,f,f,0,f,g,00280,13,-\\nb,30.17,1.085,y,p,c,v,0.04,f,f,0,f,g,00170,179,-\\n?,40.83,3.5,u,g,i,bb,0.5,f,f,0,f,s,01160,0,-\\nb,34.83,2.5,y,p,w,v,3,f,f,0,f,s,00200,0,-\\nb,?,4,y,p,i,v,0.085,f,f,0,t,g,00411,0,-\\nb,20.42,0,?,?,?,?,0,f,f,0,f,p,?,0,-\\na,33.25,2.5,y,p,c,v,2.5,f,f,0,t,g,00000,2,-\\nb,34.08,2.5,u,g,c,v,1,f,f,0,f,g,00460,16,-\\na,25.25,12.5,u,g,d,v,1,f,f,0,t,g,00180,1062,-\\nb,34.75,2.5,u,g,cc,bb,0.5,f,f,0,f,g,00348,0,-\\nb,27.67,0.75,u,g,q,h,0.165,f,f,0,t,g,00220,251,-\\nb,47.33,6.5,u,g,c,v,1,f,f,0,t,g,00000,228,-\\na,34.83,1.25,y,p,i,h,0.5,f,f,0,t,g,00160,0,-\\na,33.25,3,y,p,aa,v,2,f,f,0,f,g,00180,0,-\\nb,28.00,3,u,g,w,v,0.75,f,f,0,t,g,00300,67,-\\na,39.08,4,u,g,c,v,3,f,f,0,f,g,00480,0,-\\nb,42.75,4.085,u,g,aa,v,0.04,f,f,0,f,g,00108,100,-\\nb,26.92,2.25,u,g,i,bb,0.5,f,f,0,t,g,00640,4000,-\\nb,33.75,2.75,u,g,i,bb,0,f,f,0,f,g,00180,0,-\\nb,38.92,1.75,u,g,k,v,0.5,f,f,0,t,g,00300,2,-\\nb,62.75,7,u,g,e,z,0,f,f,0,f,g,00000,12,-\\n?,32.25,1.5,u,g,c,v,0.25,f,f,0,t,g,00372,122,-\\nb,26.75,4.5,y,p,c,bb,2.5,f,f,0,f,g,00200,1210,-\\nb,63.33,0.54,u,g,c,v,0.585,t,t,03,t,g,00180,0,-\\nb,27.83,1.5,u,g,w,v,2.25,f,t,01,t,g,00100,3,-\\na,26.17,2,u,g,j,j,0,f,f,0,t,g,00276,1,-\\nb,22.17,0.585,y,p,ff,ff,0,f,f,0,f,g,00100,0,-\\nb,22.50,11.5,y,p,m,v,1.5,f,f,0,t,g,00000,4000,-\\nb,30.75,1.585,u,g,d,v,0.585,f,f,0,t,s,00000,0,-\\nb,36.67,2,u,g,i,v,0.25,f,f,0,t,g,00221,0,-\\na,16.00,0.165,u,g,aa,v,1,f,t,02,t,g,00320,1,-\\nb,41.17,1.335,u,g,d,v,0.165,f,f,0,f,g,00168,0,-\\na,19.50,0.165,u,g,q,v,0.04,f,f,0,t,g,00380,0,-\\nb,32.42,3,u,g,d,v,0.165,f,f,0,t,g,00120,0,-\\na,36.75,4.71,u,g,ff,ff,0,f,f,0,f,g,00160,0,-\\na,30.25,5.5,u,g,k,v,5.5,f,f,0,t,s,00100,0,-\\nb,23.08,2.5,u,g,ff,ff,0.085,f,f,0,t,g,00100,4208,-\\nb,26.83,0.54,u,g,k,ff,0,f,f,0,f,g,00100,0,-\\nb,16.92,0.335,y,p,k,v,0.29,f,f,0,f,s,00200,0,-\\nb,24.42,2,u,g,e,dd,0.165,f,t,02,f,g,00320,1300,-\\nb,42.83,1.25,u,g,m,v,13.875,f,t,01,t,g,00352,112,-\\na,22.75,6.165,u,g,aa,v,0.165,f,f,0,f,g,00220,1000,-\\nb,39.42,1.71,y,p,m,v,0.165,f,f,0,f,s,00400,0,-\\na,23.58,11.5,y,p,k,h,3,f,f,0,t,g,00020,16,-\\nb,21.42,0.75,y,p,r,n,0.75,f,f,0,t,g,00132,2,-\\nb,33.00,2.5,y,p,w,v,7,f,f,0,t,g,00280,0,-\\nb,26.33,13,u,g,e,dd,0,f,f,0,t,g,00140,1110,-\\na,45.00,4.585,u,g,k,h,1,f,f,0,t,s,00240,0,-\\nb,26.25,1.54,u,g,w,v,0.125,f,f,0,f,g,00100,0,-\\n?,28.17,0.585,u,g,aa,v,0.04,f,f,0,f,g,00260,1004,-\\na,20.83,0.5,y,p,e,dd,1,f,f,0,f,g,00260,0,-\\nb,28.67,14.5,u,g,d,v,0.125,f,f,0,f,g,00000,286,-\\nb,20.67,0.835,y,p,c,v,2,f,f,0,t,s,00240,0,-\\nb,34.42,1.335,u,g,i,bb,0.125,f,f,0,t,g,00440,4500,-\\nb,33.58,0.25,u,g,i,bb,4,f,f,0,t,s,00420,0,-\\nb,43.17,5,u,g,i,bb,2.25,f,f,0,t,g,00141,0,-\\na,22.67,7,u,g,c,v,0.165,f,f,0,f,g,00160,0,-\\na,24.33,2.5,y,p,i,bb,4.5,f,f,0,f,g,00200,456,-\\na,56.83,4.25,y,p,ff,ff,5,f,f,0,t,g,00000,4,-\\nb,22.08,11.46,u,g,k,v,1.585,f,f,0,t,g,00100,1212,-\\nb,34.00,5.5,y,p,c,v,1.5,f,f,0,t,g,00060,0,-\\nb,22.58,1.5,y,p,aa,v,0.54,f,f,0,t,g,00120,67,-\\nb,21.17,0,u,g,c,v,0.5,f,f,0,t,s,00000,0,-\\nb,26.67,14.585,u,g,i,bb,0,f,f,0,t,g,00178,0,-\\nb,22.92,0.17,u,g,m,v,0.085,f,f,0,f,s,00000,0,-\\nb,15.17,7,u,g,e,v,1,f,f,0,f,g,00600,0,-\\nb,39.92,5,u,g,i,bb,0.21,f,f,0,f,g,00550,0,-\\nb,27.42,12.5,u,g,aa,bb,0.25,f,f,0,t,g,00720,0,-\\nb,24.75,0.54,u,g,m,v,1,f,f,0,t,g,00120,1,-\\nb,41.17,1.25,y,p,w,v,0.25,f,f,0,f,g,00000,195,-\\na,33.08,1.625,u,g,d,v,0.54,f,f,0,t,g,00000,0,-\\nb,29.83,2.04,y,p,x,h,0.04,f,f,0,f,g,00128,1,-\\na,23.58,0.585,y,p,ff,ff,0.125,f,f,0,f,g,00120,87,-\\nb,26.17,12.5,y,p,k,h,1.25,f,f,0,t,g,00000,17,-\\nb,31.00,2.085,u,g,c,v,0.085,f,f,0,f,g,00300,0,-\\nb,20.75,5.085,y,p,j,v,0.29,f,f,0,f,g,00140,184,-\\nb,28.92,0.375,u,g,c,v,0.29,f,f,0,f,g,00220,140,-\\na,51.92,6.5,u,g,i,bb,3.085,f,f,0,t,g,00073,0,-\\na,22.67,0.335,u,g,q,v,0.75,f,f,0,f,s,00160,0,-\\nb,34.00,5.085,y,p,i,bb,1.085,f,f,0,t,g,00480,0,-\\na,69.50,6,u,g,ff,ff,0,f,f,0,f,s,00000,0,-\\na,40.33,8.125,y,p,k,v,0.165,f,t,02,f,g,?,18,-\\na,19.58,0.665,y,p,c,v,1,f,t,01,f,g,02000,2,-\\nb,16.00,3.125,u,g,w,v,0.085,f,t,01,f,g,00000,6,-\\nb,17.08,0.25,u,g,q,v,0.335,f,t,04,f,g,00160,8,-\\nb,31.25,2.835,u,g,ff,ff,0,f,t,05,f,g,00176,146,-\\nb,25.17,3,u,g,c,v,1.25,f,t,01,f,g,00000,22,-\\na,22.67,0.79,u,g,i,v,0.085,f,f,0,f,g,00144,0,-\\nb,40.58,1.5,u,g,i,bb,0,f,f,0,f,s,00300,0,-\\nb,22.25,0.46,u,g,k,v,0.125,f,f,0,t,g,00280,55,-\\na,22.25,1.25,y,p,ff,ff,3.25,f,f,0,f,g,00280,0,-\\nb,22.50,0.125,y,p,k,v,0.125,f,f,0,f,g,00200,70,-\\nb,23.58,1.79,u,g,c,v,0.54,f,f,0,t,g,00136,1,-\\nb,38.42,0.705,u,g,c,v,0.375,f,t,02,f,g,00225,500,-\\na,26.58,2.54,y,p,ff,ff,0,f,f,0,t,g,00180,60,-\\nb,35.00,2.5,u,g,i,v,1,f,f,0,t,g,00210,0,-\\nb,20.42,1.085,u,g,q,v,1.5,f,f,0,f,g,00108,7,-\\nb,29.42,1.25,u,g,w,v,1.75,f,f,0,f,g,00200,0,-\\nb,26.17,0.835,u,g,cc,v,1.165,f,f,0,f,g,00100,0,-\\nb,33.67,2.165,u,g,c,v,1.5,f,f,0,f,p,00120,0,-\\nb,24.58,1.25,u,g,c,v,0.25,f,f,0,f,g,00110,0,-\\na,27.67,2.04,u,g,w,v,0.25,f,f,0,t,g,00180,50,-\\nb,37.50,0.835,u,g,e,v,0.04,f,f,0,f,g,00120,5,-\\nb,49.17,2.29,u,g,ff,ff,0.29,f,f,0,f,g,00200,3,-\\nb,33.58,0.335,y,p,cc,v,0.085,f,f,0,f,g,00180,0,-\\nb,51.83,3,y,p,ff,ff,1.5,f,f,0,f,g,00180,4,-\\nb,22.92,3.165,y,p,c,v,0.165,f,f,0,f,g,00160,1058,-\\nb,21.83,1.54,u,g,k,v,0.085,f,f,0,t,g,00356,0,-\\nb,25.25,1,u,g,aa,v,0.5,f,f,0,f,g,00200,0,-\\nb,58.58,2.71,u,g,c,v,2.415,f,f,0,t,g,00320,0,-\\nb,19.00,0,y,p,ff,ff,0,f,t,04,f,g,00045,1,-\\nb,19.58,0.585,u,g,ff,ff,0,f,t,03,f,g,00350,769,-\\na,53.33,0.165,u,g,ff,ff,0,f,f,0,t,s,00062,27,-\\na,27.17,1.25,u,g,ff,ff,0,f,t,01,f,g,00092,300,-\\nb,25.92,0.875,u,g,k,v,0.375,f,t,02,t,g,00174,3,-\\nb,23.08,0,u,g,k,v,1,f,t,11,f,s,00000,0,-\\nb,39.58,5,u,g,ff,ff,0,f,t,02,f,g,00017,1,-\\nb,30.58,2.71,y,p,m,v,0.125,f,f,0,t,s,00080,0,-\\nb,17.25,3,u,g,k,v,0.04,f,f,0,t,g,00160,40,-\\na,17.67,0,y,p,j,ff,0,f,f,0,f,g,00086,0,-\\na,?,11.25,u,g,ff,ff,0,f,f,0,f,g,?,5200,-\\nb,16.50,0.125,u,g,c,v,0.165,f,f,0,f,g,00132,0,-\\na,27.33,1.665,u,g,ff,ff,0,f,f,0,f,g,00340,1,-\\nb,31.25,1.125,u,g,ff,ff,0,f,t,01,f,g,00096,19,-\\nb,20.00,7,u,g,c,v,0.5,f,f,0,f,g,00000,0,-\\nb,?,3,y,p,i,bb,7,f,f,0,f,g,00000,1,-\\nb,39.50,1.625,u,g,c,v,1.5,f,f,0,f,g,00000,316,-\\nb,36.50,4.25,u,g,q,v,3.5,f,f,0,f,g,00454,50,-\\n?,29.75,0.665,u,g,w,v,0.25,f,f,0,t,g,00300,0,-\\nb,52.42,1.5,u,g,d,v,3.75,f,f,0,t,g,00000,350,-\\nb,36.17,18.125,u,g,w,v,0.085,f,f,0,f,g,00320,3552,-\\nb,34.58,0,?,?,?,?,0,f,f,0,f,p,?,0,-\\nb,29.67,0.75,y,p,c,v,0.04,f,f,0,f,g,00240,0,-\\nb,36.17,5.5,u,g,i,bb,5,f,f,0,f,g,00210,687,-\\nb,25.67,0.29,y,p,c,v,1.5,f,f,0,t,g,00160,0,-\\na,24.50,2.415,y,p,c,v,0,f,f,0,f,g,00120,0,-\\nb,24.08,0.875,u,g,m,v,0.085,f,t,04,f,g,00254,1950,-\\nb,21.92,0.5,u,g,c,v,0.125,f,f,0,f,g,00360,0,-\\na,36.58,0.29,u,g,ff,ff,0,f,t,10,f,g,00200,18,-\\na,23.00,1.835,u,g,j,j,0,f,t,01,f,g,00200,53,-\\na,27.58,3,u,g,m,v,2.79,f,t,01,t,g,00280,10,-\\nb,31.08,3.085,u,g,c,v,2.5,f,t,02,t,g,00160,41,-\\na,30.42,1.375,u,g,w,h,0.04,f,t,03,f,g,00000,33,-\\nb,22.08,2.335,u,g,k,v,0.75,f,f,0,f,g,00180,0,-\\nb,16.33,4.085,u,g,i,h,0.415,f,f,0,t,g,00120,0,-\\na,21.92,11.665,u,g,k,h,0.085,f,f,0,f,g,00320,5,-\\nb,21.08,4.125,y,p,i,h,0.04,f,f,0,f,g,00140,100,-\\nb,17.42,6.5,u,g,i,v,0.125,f,f,0,f,g,00060,100,-\\nb,19.17,4,y,p,i,v,1,f,f,0,t,g,00360,1000,-\\nb,20.67,0.415,u,g,c,v,0.125,f,f,0,f,g,00000,44,-\\nb,26.75,2,u,g,d,v,0.75,f,f,0,t,g,00080,0,-\\nb,23.58,0.835,u,g,i,h,0.085,f,f,0,t,g,00220,5,-\\nb,39.17,2.5,y,p,i,h,10,f,f,0,t,s,00200,0,-\\nb,22.75,11.5,u,g,i,v,0.415,f,f,0,f,g,00000,0,-\\n?,26.50,2.71,y,p,?,?,0.085,f,f,0,f,s,00080,0,-\\na,16.92,0.5,u,g,i,v,0.165,f,t,06,t,g,00240,35,-\\nb,23.50,3.165,y,p,k,v,0.415,f,t,01,t,g,00280,80,-\\na,17.33,9.5,u,g,aa,v,1.75,f,t,10,t,g,00000,10,-\\nb,23.75,0.415,y,p,c,v,0.04,f,t,02,f,g,00128,6,-\\nb,34.67,1.08,u,g,m,v,1.165,f,f,0,f,s,00028,0,-\\nb,74.83,19,y,p,ff,ff,0.04,f,t,02,f,g,00000,351,-\\nb,28.17,0.125,y,p,k,v,0.085,f,f,0,f,g,00216,2100,-\\nb,24.50,13.335,y,p,aa,v,0.04,f,f,0,t,g,00120,475,-\\nb,18.83,3.54,y,p,ff,ff,0,f,f,0,t,g,00180,1,-\\n?,45.33,1,u,g,q,v,0.125,f,f,0,t,g,00263,0,-\\na,47.25,0.75,u,g,q,h,2.75,t,t,01,f,g,00333,892,+\\nb,24.17,0.875,u,g,q,v,4.625,t,t,02,t,g,00520,2000,+\\nb,39.25,9.5,u,g,m,v,6.5,t,t,14,f,g,00240,4607,+\\na,20.50,11.835,u,g,c,h,6,t,f,0,f,g,00340,0,+\\na,18.83,4.415,y,p,c,h,3,t,f,0,f,g,00240,0,+\\nb,19.17,9.5,u,g,w,v,1.5,t,f,0,f,g,00120,2206,+\\na,25.00,0.875,u,g,x,h,1.04,t,f,0,t,g,00160,5860,+\\nb,20.17,9.25,u,g,c,v,1.665,t,t,03,t,g,00040,28,+\\nb,25.75,0.5,u,g,c,v,1.46,t,t,05,t,g,00312,0,+\\nb,20.42,7,u,g,c,v,1.625,t,t,03,f,g,00200,1391,+\\nb,?,4,u,g,x,v,5,t,t,03,t,g,00290,2279,+\\nb,39.00,5,u,g,cc,v,3.5,t,t,10,t,g,00000,0,+\\na,64.08,0.165,u,g,ff,ff,0,t,t,01,f,g,00232,100,+\\nb,28.25,5.125,u,g,x,v,4.75,t,t,02,f,g,00420,7,+\\na,28.75,3.75,u,g,c,v,1.085,t,t,01,t,g,00371,0,+\\nb,31.33,19.5,u,g,c,v,7,t,t,16,f,g,00000,5000,+\\na,18.92,9,u,g,aa,v,0.75,t,t,02,f,g,00088,591,+\\na,24.75,3,u,g,q,h,1.835,t,t,19,f,g,00000,500,+\\na,30.67,12,u,g,c,v,2,t,t,01,f,g,00220,19,+\\nb,21.00,4.79,y,p,w,v,2.25,t,t,01,t,g,00080,300,+\\nb,13.75,4,y,p,w,v,1.75,t,t,02,t,g,00120,1000,+\\na,46.00,4,u,g,j,j,0,t,f,0,f,g,00100,960,+\\na,44.33,0,u,g,c,v,2.5,t,f,0,f,g,00000,0,+\\nb,20.25,9.96,u,g,e,dd,0,t,f,0,f,g,00000,0,+\\nb,22.67,2.54,y,p,c,h,2.585,t,f,0,f,g,00000,0,+\\nb,?,10.5,u,g,x,v,6.5,t,f,0,f,g,00000,0,+\\na,60.92,5,u,g,aa,v,4,t,t,04,f,g,00000,99,+\\nb,16.08,0.75,u,g,c,v,1.75,t,t,05,t,g,00352,690,+\\na,28.17,0.375,u,g,q,v,0.585,t,t,04,f,g,00080,0,+\\nb,39.17,1.71,u,g,x,v,0.125,t,t,05,t,g,00480,0,+\\n?,20.42,7.5,u,g,k,v,1.5,t,t,01,f,g,00160,234,+\\na,30.00,5.29,u,g,e,dd,2.25,t,t,05,t,g,00099,500,+\\nb,22.83,3,u,g,m,v,1.29,t,t,01,f,g,00260,800,+\\na,22.50,8.5,u,g,q,v,1.75,t,t,10,f,g,00080,990,-\\na,28.58,1.665,u,g,q,v,2.415,t,f,0,t,g,00440,0,-\\nb,45.17,1.5,u,g,c,v,2.5,t,f,0,t,g,00140,0,-\\nb,41.58,1.75,u,g,k,v,0.21,t,f,0,f,g,00160,0,-\\na,57.08,0.335,u,g,i,bb,1,t,f,0,t,g,00252,2197,-\\na,55.75,7.08,u,g,k,h,6.75,t,t,03,t,g,00100,50,-\\nb,43.25,25.21,u,g,q,h,0.21,t,t,01,f,g,00760,90,-\\na,25.33,2.085,u,g,c,h,2.75,t,f,0,t,g,00360,1,-\\na,24.58,0.67,u,g,aa,h,1.75,t,f,0,f,g,00400,0,-\\nb,43.17,2.25,u,g,i,bb,0.75,t,f,0,f,g,00560,0,-\\nb,40.92,0.835,u,g,ff,ff,0,t,f,0,f,g,00130,1,-\\nb,31.83,2.5,u,g,aa,v,7.5,t,f,0,t,g,00523,0,-\\na,33.92,1.585,y,p,ff,ff,0,t,f,0,f,g,00320,0,-\\na,24.92,1.25,u,g,ff,ff,0,t,f,0,f,g,00080,0,-\\nb,35.25,3.165,u,g,x,h,3.75,t,f,0,t,g,00680,0,-\\nb,34.25,1.75,u,g,w,bb,0.25,t,f,0,t,g,00163,0,-\\nb,80.25,5.5,u,g,?,?,0.54,t,f,0,f,g,00000,340,-\\nb,19.42,1.5,y,p,cc,v,2,t,f,0,t,g,00100,20,-\\nb,42.75,3,u,g,i,bb,1,t,f,0,f,g,00000,200,-\\nb,19.67,10,y,p,k,h,0.835,t,f,0,t,g,00140,0,-\\nb,36.33,3.79,u,g,w,v,1.165,t,f,0,t,g,00200,0,-\\nb,30.08,1.04,y,p,i,bb,0.5,t,t,10,t,g,00132,28,-\\nb,44.25,11,y,p,d,v,1.5,t,f,0,f,s,00000,0,-\\nb,23.58,0.46,y,p,w,v,2.625,t,t,06,t,g,00208,347,-\\nb,23.92,1.5,u,g,d,h,1.875,t,t,06,f,g,00200,327,+\\nb,33.17,1,u,g,x,v,0.75,t,t,07,t,g,00340,4071,+\\nb,48.33,12,u,g,m,v,16,t,f,0,f,s,00110,0,+\\nb,76.75,22.29,u,g,e,z,12.75,t,t,01,t,g,00000,109,+\\nb,51.33,10,u,g,i,bb,0,t,t,11,f,g,00000,1249,+\\nb,34.75,15,u,g,r,n,5.375,t,t,09,t,g,00000,134,+\\nb,38.58,3.335,u,g,w,v,4,t,t,14,f,g,00383,1344,+\\na,22.42,11.25,y,p,x,h,0.75,t,t,04,f,g,00000,321,+\\nb,41.92,0.42,u,g,c,h,0.21,t,t,06,f,g,00220,948,+\\nb,29.58,4.5,u,g,w,v,7.5,t,t,02,t,g,00330,0,+\\na,32.17,1.46,u,g,w,v,1.085,t,t,16,f,g,00120,2079,+\\nb,51.42,0.04,u,g,x,h,0.04,t,f,0,f,g,00000,3000,+\\na,22.83,2.29,u,g,q,h,2.29,t,t,07,t,g,00140,2384,+\\na,25.00,12.33,u,g,cc,h,3.5,t,t,06,f,g,00400,458,+\\nb,26.75,1.125,u,g,x,h,1.25,t,f,0,f,g,00000,5298,+\\nb,23.33,1.5,u,g,c,h,1.415,t,f,0,f,g,00422,200,+\\nb,24.42,12.335,u,g,q,h,1.585,t,f,0,t,g,00120,0,+\\nb,42.17,5.04,u,g,q,h,12.75,t,f,0,t,g,00092,0,+\\na,20.83,3,u,g,aa,v,0.04,t,f,0,f,g,00100,0,+\\nb,23.08,11.5,u,g,w,h,2.125,t,t,11,t,g,00290,284,+\\na,25.17,2.875,u,g,x,h,0.875,t,f,0,f,g,00360,0,+\\nb,43.08,0.375,y,p,c,v,0.375,t,t,08,t,g,00300,162,+\\na,35.75,0.915,u,g,aa,v,0.75,t,t,04,f,g,00000,1583,+\\nb,59.50,2.75,u,g,w,v,1.75,t,t,05,t,g,00060,58,+\\nb,21.00,3,y,p,d,v,1.085,t,t,08,t,g,00160,1,+\\nb,21.92,0.54,y,p,x,v,0.04,t,t,01,t,g,00840,59,+\\na,65.17,14,u,g,ff,ff,0,t,t,11,t,g,00000,1400,+\\na,20.33,10,u,g,c,h,1,t,t,04,f,g,00050,1465,+\\nb,32.25,0.165,y,p,c,h,3.25,t,t,01,t,g,00432,8000,+\\nb,30.17,0.5,u,g,c,v,1.75,t,t,11,f,g,00032,540,+\\nb,25.17,6,u,g,c,v,1,t,t,03,f,g,00000,0,+\\nb,39.17,1.625,u,g,c,v,1.5,t,t,10,f,g,00186,4700,+\\nb,39.08,6,u,g,m,v,1.29,t,t,05,t,g,00108,1097,+\\nb,31.67,0.83,u,g,x,v,1.335,t,t,08,t,g,00303,3290,+\\nb,41.00,0.04,u,g,e,v,0.04,f,t,01,f,s,00560,0,+\\nb,48.50,4.25,u,g,m,v,0.125,t,f,0,t,g,00225,0,+\\nb,32.67,9,y,p,w,h,5.25,t,f,0,t,g,00154,0,+\\na,28.08,15,y,p,e,z,0,t,f,0,f,g,00000,13212,+\\nb,73.42,17.75,u,g,ff,ff,0,t,f,0,t,g,00000,0,+\\nb,64.08,20,u,g,x,h,17.5,t,t,09,t,g,00000,1000,+\\nb,51.58,15,u,g,c,v,8.5,t,t,09,f,g,00000,0,+\\nb,26.67,1.75,y,p,c,v,1,t,t,05,t,g,00160,5777,+\\nb,25.33,0.58,u,g,c,v,0.29,t,t,07,t,g,00096,5124,+\\nb,30.17,6.5,u,g,cc,v,3.125,t,t,08,f,g,00330,1200,+\\nb,27.00,0.75,u,g,c,h,4.25,t,t,03,t,g,00312,150,+\\nb,23.17,0,?,?,?,?,0,f,f,0,f,p,?,0,+\\nb,34.17,5.25,u,g,w,v,0.085,f,f,0,t,g,00290,6,+\\nb,38.67,0.21,u,g,k,v,0.085,t,f,0,t,g,00280,0,+\\nb,25.75,0.75,u,g,c,bb,0.25,t,f,0,f,g,00349,23,+\\na,46.08,3,u,g,c,v,2.375,t,t,08,t,g,00396,4159,+\\na,21.50,6,u,g,aa,v,2.5,t,t,03,f,g,00080,918,+\\n?,20.08,0.125,u,g,q,v,1,f,t,01,f,g,00240,768,+\\nb,20.50,2.415,u,g,c,v,2,t,t,11,t,g,00200,3000,+\\na,29.50,0.46,u,g,k,v,0.54,t,t,04,f,g,00380,500,+\\n?,42.25,1.75,y,p,?,?,0,f,f,0,t,g,00150,1,-\\nb,29.83,1.25,y,p,k,v,0.25,f,f,0,f,g,00224,0,-\\nb,20.08,0.25,u,g,q,v,0.125,f,f,0,f,g,00200,0,-\\nb,23.42,0.585,u,g,c,h,0.085,t,f,0,f,g,00180,0,-\\na,29.58,1.75,y,p,k,v,1.25,f,f,0,t,g,00280,0,-\\nb,16.17,0.04,u,g,c,v,0.04,f,f,0,f,g,00000,0,+\\nb,32.33,3.5,u,g,k,v,0.5,f,f,0,t,g,00232,0,-\\nb,?,0.04,y,p,d,v,4.25,f,f,0,t,g,00460,0,-\\nb,47.83,4.165,u,g,x,bb,0.085,f,f,0,t,g,00520,0,-\\nb,20.00,1.25,y,p,k,v,0.125,f,f,0,f,g,00140,4,-\\nb,27.58,3.25,y,p,q,h,5.085,f,t,02,t,g,00369,1,-\\nb,22.00,0.79,u,g,w,v,0.29,f,t,01,f,g,00420,283,-\\nb,19.33,10.915,u,g,c,bb,0.585,f,t,02,t,g,00200,7,-\\na,38.33,4.415,u,g,c,v,0.125,f,f,0,f,g,00160,0,-\\nb,29.42,1.25,u,g,c,h,0.25,f,t,02,t,g,00400,108,-\\nb,22.67,0.75,u,g,i,v,1.585,f,t,01,t,g,00400,9,-\\nb,32.25,14,y,p,ff,ff,0,f,t,02,f,g,00160,1,-\\nb,29.58,4.75,u,g,m,v,2,f,t,01,t,g,00460,68,-\\nb,18.42,10.415,y,p,aa,v,0.125,t,f,0,f,g,00120,375,-\\nb,22.17,2.25,u,g,i,v,0.125,f,f,0,f,g,00160,10,-\\nb,22.67,0.165,u,g,c,j,2.25,f,f,0,t,s,00000,0,+\\na,25.58,0,?,?,?,?,0,f,f,0,f,p,?,0,+\\nb,18.83,0,u,g,q,v,0.665,f,f,0,f,g,00160,1,-\\nb,21.58,0.79,y,p,cc,v,0.665,f,f,0,f,g,00160,0,-\\nb,23.75,12,u,g,c,v,2.085,f,f,0,f,s,00080,0,-\\nb,22.00,7.835,y,p,i,bb,0.165,f,f,0,t,g,?,0,-\\nb,36.08,2.54,u,g,ff,ff,0,f,f,0,f,g,00000,1000,-\\nb,29.25,13,u,g,d,h,0.5,f,f,0,f,g,00228,0,-\\na,19.58,0.665,u,g,w,v,1.665,f,f,0,f,g,00220,5,-\\na,22.92,1.25,u,g,q,v,0.25,f,f,0,t,g,00120,809,-\\na,27.25,0.29,u,g,m,h,0.125,f,t,01,t,g,00272,108,-\\na,38.75,1.5,u,g,ff,ff,0,f,f,0,f,g,00076,0,-\\nb,32.42,2.165,y,p,k,ff,0,f,f,0,f,g,00120,0,-\\na,23.75,0.71,u,g,w,v,0.25,f,t,01,t,g,00240,4,-\\nb,18.17,2.46,u,g,c,n,0.96,f,t,02,t,g,00160,587,-\\nb,40.92,0.5,y,p,m,v,0.5,f,f,0,t,g,00130,0,-\\nb,19.50,9.585,u,g,aa,v,0.79,f,f,0,f,g,00080,350,-\\nb,28.58,3.625,u,g,aa,v,0.25,f,f,0,t,g,00100,0,-\\nb,35.58,0.75,u,g,k,v,1.5,f,f,0,t,g,00231,0,-\\nb,34.17,2.75,u,g,i,bb,2.5,f,f,0,t,g,00232,200,-\\n?,33.17,2.25,y,p,cc,v,3.5,f,f,0,t,g,00200,141,-\\nb,31.58,0.75,y,p,aa,v,3.5,f,f,0,t,g,00320,0,-\\na,52.50,7,u,g,aa,h,3,f,f,0,f,g,00000,0,-\\nb,36.17,0.42,y,p,w,v,0.29,f,f,0,t,g,00309,2,-\\nb,37.33,2.665,u,g,cc,v,0.165,f,f,0,t,g,00000,501,-\\na,20.83,8.5,u,g,c,v,0.165,f,f,0,f,g,00000,351,-\\nb,24.08,9,u,g,aa,v,0.25,f,f,0,t,g,00000,0,-\\nb,25.58,0.335,u,g,k,h,3.5,f,f,0,t,g,00340,0,-\\na,35.17,3.75,u,g,ff,ff,0,f,t,06,f,g,00000,200,-\\nb,48.08,3.75,u,g,i,bb,1,f,f,0,f,g,00100,2,-\\na,15.83,7.625,u,g,q,v,0.125,f,t,01,t,g,00000,160,-\\na,22.50,0.415,u,g,i,v,0.335,f,f,0,t,s,00144,0,-\\nb,21.50,11.5,u,g,i,v,0.5,t,f,0,t,g,00100,68,-\\na,23.58,0.83,u,g,q,v,0.415,f,t,01,t,g,00200,11,-\\na,21.08,5,y,p,ff,ff,0,f,f,0,f,g,00000,0,-\\nb,25.67,3.25,u,g,c,h,2.29,f,t,01,t,g,00416,21,-\\na,38.92,1.665,u,g,aa,v,0.25,f,f,0,f,g,00000,390,-\\na,15.75,0.375,u,g,c,v,1,f,f,0,f,g,00120,18,-\\na,28.58,3.75,u,g,c,v,0.25,f,t,01,t,g,00040,154,-\\nb,22.25,9,u,g,aa,v,0.085,f,f,0,f,g,00000,0,-\\nb,29.83,3.5,u,g,c,v,0.165,f,f,0,f,g,00216,0,-\\na,23.50,1.5,u,g,w,v,0.875,f,f,0,t,g,00160,0,-\\nb,32.08,4,y,p,cc,v,1.5,f,f,0,t,g,00120,0,-\\nb,31.08,1.5,y,p,w,v,0.04,f,f,0,f,s,00160,0,-\\nb,31.83,0.04,y,p,m,v,0.04,f,f,0,f,g,00000,0,-\\na,21.75,11.75,u,g,c,v,0.25,f,f,0,t,g,00180,0,-\\na,17.92,0.54,u,g,c,v,1.75,f,t,01,t,g,00080,5,-\\nb,30.33,0.5,u,g,d,h,0.085,f,f,0,t,s,00252,0,-\\nb,51.83,2.04,y,p,ff,ff,1.5,f,f,0,f,g,00120,1,-\\nb,47.17,5.835,u,g,w,v,5.5,f,f,0,f,g,00465,150,-\\nb,25.83,12.835,u,g,cc,v,0.5,f,f,0,f,g,00000,2,-\\na,50.25,0.835,u,g,aa,v,0.5,f,f,0,t,g,00240,117,-\\n?,29.50,2,y,p,e,h,2,f,f,0,f,g,00256,17,-\\na,37.33,2.5,u,g,i,h,0.21,f,f,0,f,g,00260,246,-\\na,41.58,1.04,u,g,aa,v,0.665,f,f,0,f,g,00240,237,-\\na,30.58,10.665,u,g,q,h,0.085,f,t,12,t,g,00129,3,-\\nb,19.42,7.25,u,g,m,v,0.04,f,t,01,f,g,00100,1,-\\na,17.92,10.21,u,g,ff,ff,0,f,f,0,f,g,00000,50,-\\na,20.08,1.25,u,g,c,v,0,f,f,0,f,g,00000,0,-\\nb,19.50,0.29,u,g,k,v,0.29,f,f,0,f,g,00280,364,-\\nb,27.83,1,y,p,d,h,3,f,f,0,f,g,00176,537,-\\nb,17.08,3.29,u,g,i,v,0.335,f,f,0,t,g,00140,2,-\\nb,36.42,0.75,y,p,d,v,0.585,f,f,0,f,g,00240,3,-\\nb,40.58,3.29,u,g,m,v,3.5,f,f,0,t,s,00400,0,-\\nb,21.08,10.085,y,p,e,h,1.25,f,f,0,f,g,00260,0,-\\na,22.67,0.75,u,g,c,v,2,f,t,02,t,g,00200,394,-\\na,25.25,13.5,y,p,ff,ff,2,f,t,01,t,g,00200,1,-\\nb,17.92,0.205,u,g,aa,v,0.04,f,f,0,f,g,00280,750,-\\nb,35.00,3.375,u,g,c,h,8.29,f,f,0,t,g,00000,0,-\\n'}"
            ]
          },
          "metadata": {
            "tags": []
          },
          "execution_count": 2
        }
      ]
    },
    {
      "cell_type": "code",
      "metadata": {
        "id": "4-9zaRKeSH59",
        "colab_type": "code",
        "outputId": "5940ffc6-e636-4c2b-d154-28763ee4c2d5",
        "colab": {
          "base_uri": "https://localhost:8080/",
          "height": 452
        }
      },
      "source": [
        "df = pd.read_csv('crx.data')\n",
        "df.head(13)"
      ],
      "execution_count": 0,
      "outputs": [
        {
          "output_type": "execute_result",
          "data": {
            "text/html": [
              "<div>\n",
              "<style scoped>\n",
              "    .dataframe tbody tr th:only-of-type {\n",
              "        vertical-align: middle;\n",
              "    }\n",
              "\n",
              "    .dataframe tbody tr th {\n",
              "        vertical-align: top;\n",
              "    }\n",
              "\n",
              "    .dataframe thead th {\n",
              "        text-align: right;\n",
              "    }\n",
              "</style>\n",
              "<table border=\"1\" class=\"dataframe\">\n",
              "  <thead>\n",
              "    <tr style=\"text-align: right;\">\n",
              "      <th></th>\n",
              "      <th>b</th>\n",
              "      <th>30.83</th>\n",
              "      <th>0</th>\n",
              "      <th>u</th>\n",
              "      <th>g</th>\n",
              "      <th>w</th>\n",
              "      <th>v</th>\n",
              "      <th>1.25</th>\n",
              "      <th>t</th>\n",
              "      <th>t.1</th>\n",
              "      <th>01</th>\n",
              "      <th>f</th>\n",
              "      <th>g.1</th>\n",
              "      <th>00202</th>\n",
              "      <th>0.1</th>\n",
              "      <th>+</th>\n",
              "    </tr>\n",
              "  </thead>\n",
              "  <tbody>\n",
              "    <tr>\n",
              "      <th>0</th>\n",
              "      <td>a</td>\n",
              "      <td>58.67</td>\n",
              "      <td>4.460</td>\n",
              "      <td>u</td>\n",
              "      <td>g</td>\n",
              "      <td>q</td>\n",
              "      <td>h</td>\n",
              "      <td>3.040</td>\n",
              "      <td>t</td>\n",
              "      <td>t</td>\n",
              "      <td>6</td>\n",
              "      <td>f</td>\n",
              "      <td>g</td>\n",
              "      <td>00043</td>\n",
              "      <td>560</td>\n",
              "      <td>+</td>\n",
              "    </tr>\n",
              "    <tr>\n",
              "      <th>1</th>\n",
              "      <td>a</td>\n",
              "      <td>24.50</td>\n",
              "      <td>0.500</td>\n",
              "      <td>u</td>\n",
              "      <td>g</td>\n",
              "      <td>q</td>\n",
              "      <td>h</td>\n",
              "      <td>1.500</td>\n",
              "      <td>t</td>\n",
              "      <td>f</td>\n",
              "      <td>0</td>\n",
              "      <td>f</td>\n",
              "      <td>g</td>\n",
              "      <td>00280</td>\n",
              "      <td>824</td>\n",
              "      <td>+</td>\n",
              "    </tr>\n",
              "    <tr>\n",
              "      <th>2</th>\n",
              "      <td>b</td>\n",
              "      <td>27.83</td>\n",
              "      <td>1.540</td>\n",
              "      <td>u</td>\n",
              "      <td>g</td>\n",
              "      <td>w</td>\n",
              "      <td>v</td>\n",
              "      <td>3.750</td>\n",
              "      <td>t</td>\n",
              "      <td>t</td>\n",
              "      <td>5</td>\n",
              "      <td>t</td>\n",
              "      <td>g</td>\n",
              "      <td>00100</td>\n",
              "      <td>3</td>\n",
              "      <td>+</td>\n",
              "    </tr>\n",
              "    <tr>\n",
              "      <th>3</th>\n",
              "      <td>b</td>\n",
              "      <td>20.17</td>\n",
              "      <td>5.625</td>\n",
              "      <td>u</td>\n",
              "      <td>g</td>\n",
              "      <td>w</td>\n",
              "      <td>v</td>\n",
              "      <td>1.710</td>\n",
              "      <td>t</td>\n",
              "      <td>f</td>\n",
              "      <td>0</td>\n",
              "      <td>f</td>\n",
              "      <td>s</td>\n",
              "      <td>00120</td>\n",
              "      <td>0</td>\n",
              "      <td>+</td>\n",
              "    </tr>\n",
              "    <tr>\n",
              "      <th>4</th>\n",
              "      <td>b</td>\n",
              "      <td>32.08</td>\n",
              "      <td>4.000</td>\n",
              "      <td>u</td>\n",
              "      <td>g</td>\n",
              "      <td>m</td>\n",
              "      <td>v</td>\n",
              "      <td>2.500</td>\n",
              "      <td>t</td>\n",
              "      <td>f</td>\n",
              "      <td>0</td>\n",
              "      <td>t</td>\n",
              "      <td>g</td>\n",
              "      <td>00360</td>\n",
              "      <td>0</td>\n",
              "      <td>+</td>\n",
              "    </tr>\n",
              "    <tr>\n",
              "      <th>5</th>\n",
              "      <td>b</td>\n",
              "      <td>33.17</td>\n",
              "      <td>1.040</td>\n",
              "      <td>u</td>\n",
              "      <td>g</td>\n",
              "      <td>r</td>\n",
              "      <td>h</td>\n",
              "      <td>6.500</td>\n",
              "      <td>t</td>\n",
              "      <td>f</td>\n",
              "      <td>0</td>\n",
              "      <td>t</td>\n",
              "      <td>g</td>\n",
              "      <td>00164</td>\n",
              "      <td>31285</td>\n",
              "      <td>+</td>\n",
              "    </tr>\n",
              "    <tr>\n",
              "      <th>6</th>\n",
              "      <td>a</td>\n",
              "      <td>22.92</td>\n",
              "      <td>11.585</td>\n",
              "      <td>u</td>\n",
              "      <td>g</td>\n",
              "      <td>cc</td>\n",
              "      <td>v</td>\n",
              "      <td>0.040</td>\n",
              "      <td>t</td>\n",
              "      <td>f</td>\n",
              "      <td>0</td>\n",
              "      <td>f</td>\n",
              "      <td>g</td>\n",
              "      <td>00080</td>\n",
              "      <td>1349</td>\n",
              "      <td>+</td>\n",
              "    </tr>\n",
              "    <tr>\n",
              "      <th>7</th>\n",
              "      <td>b</td>\n",
              "      <td>54.42</td>\n",
              "      <td>0.500</td>\n",
              "      <td>y</td>\n",
              "      <td>p</td>\n",
              "      <td>k</td>\n",
              "      <td>h</td>\n",
              "      <td>3.960</td>\n",
              "      <td>t</td>\n",
              "      <td>f</td>\n",
              "      <td>0</td>\n",
              "      <td>f</td>\n",
              "      <td>g</td>\n",
              "      <td>00180</td>\n",
              "      <td>314</td>\n",
              "      <td>+</td>\n",
              "    </tr>\n",
              "    <tr>\n",
              "      <th>8</th>\n",
              "      <td>b</td>\n",
              "      <td>42.50</td>\n",
              "      <td>4.915</td>\n",
              "      <td>y</td>\n",
              "      <td>p</td>\n",
              "      <td>w</td>\n",
              "      <td>v</td>\n",
              "      <td>3.165</td>\n",
              "      <td>t</td>\n",
              "      <td>f</td>\n",
              "      <td>0</td>\n",
              "      <td>t</td>\n",
              "      <td>g</td>\n",
              "      <td>00052</td>\n",
              "      <td>1442</td>\n",
              "      <td>+</td>\n",
              "    </tr>\n",
              "    <tr>\n",
              "      <th>9</th>\n",
              "      <td>b</td>\n",
              "      <td>22.08</td>\n",
              "      <td>0.830</td>\n",
              "      <td>u</td>\n",
              "      <td>g</td>\n",
              "      <td>c</td>\n",
              "      <td>h</td>\n",
              "      <td>2.165</td>\n",
              "      <td>f</td>\n",
              "      <td>f</td>\n",
              "      <td>0</td>\n",
              "      <td>t</td>\n",
              "      <td>g</td>\n",
              "      <td>00128</td>\n",
              "      <td>0</td>\n",
              "      <td>+</td>\n",
              "    </tr>\n",
              "    <tr>\n",
              "      <th>10</th>\n",
              "      <td>b</td>\n",
              "      <td>29.92</td>\n",
              "      <td>1.835</td>\n",
              "      <td>u</td>\n",
              "      <td>g</td>\n",
              "      <td>c</td>\n",
              "      <td>h</td>\n",
              "      <td>4.335</td>\n",
              "      <td>t</td>\n",
              "      <td>f</td>\n",
              "      <td>0</td>\n",
              "      <td>f</td>\n",
              "      <td>g</td>\n",
              "      <td>00260</td>\n",
              "      <td>200</td>\n",
              "      <td>+</td>\n",
              "    </tr>\n",
              "    <tr>\n",
              "      <th>11</th>\n",
              "      <td>a</td>\n",
              "      <td>38.25</td>\n",
              "      <td>6.000</td>\n",
              "      <td>u</td>\n",
              "      <td>g</td>\n",
              "      <td>k</td>\n",
              "      <td>v</td>\n",
              "      <td>1.000</td>\n",
              "      <td>t</td>\n",
              "      <td>f</td>\n",
              "      <td>0</td>\n",
              "      <td>t</td>\n",
              "      <td>g</td>\n",
              "      <td>00000</td>\n",
              "      <td>0</td>\n",
              "      <td>+</td>\n",
              "    </tr>\n",
              "    <tr>\n",
              "      <th>12</th>\n",
              "      <td>b</td>\n",
              "      <td>48.08</td>\n",
              "      <td>6.040</td>\n",
              "      <td>u</td>\n",
              "      <td>g</td>\n",
              "      <td>k</td>\n",
              "      <td>v</td>\n",
              "      <td>0.040</td>\n",
              "      <td>f</td>\n",
              "      <td>f</td>\n",
              "      <td>0</td>\n",
              "      <td>f</td>\n",
              "      <td>g</td>\n",
              "      <td>00000</td>\n",
              "      <td>2690</td>\n",
              "      <td>+</td>\n",
              "    </tr>\n",
              "  </tbody>\n",
              "</table>\n",
              "</div>"
            ],
            "text/plain": [
              "    b  30.83       0  u  g   w  v   1.25  t t.1  01  f g.1  00202    0.1  +\n",
              "0   a  58.67   4.460  u  g   q  h  3.040  t   t   6  f   g  00043    560  +\n",
              "1   a  24.50   0.500  u  g   q  h  1.500  t   f   0  f   g  00280    824  +\n",
              "2   b  27.83   1.540  u  g   w  v  3.750  t   t   5  t   g  00100      3  +\n",
              "3   b  20.17   5.625  u  g   w  v  1.710  t   f   0  f   s  00120      0  +\n",
              "4   b  32.08   4.000  u  g   m  v  2.500  t   f   0  t   g  00360      0  +\n",
              "5   b  33.17   1.040  u  g   r  h  6.500  t   f   0  t   g  00164  31285  +\n",
              "6   a  22.92  11.585  u  g  cc  v  0.040  t   f   0  f   g  00080   1349  +\n",
              "7   b  54.42   0.500  y  p   k  h  3.960  t   f   0  f   g  00180    314  +\n",
              "8   b  42.50   4.915  y  p   w  v  3.165  t   f   0  t   g  00052   1442  +\n",
              "9   b  22.08   0.830  u  g   c  h  2.165  f   f   0  t   g  00128      0  +\n",
              "10  b  29.92   1.835  u  g   c  h  4.335  t   f   0  f   g  00260    200  +\n",
              "11  a  38.25   6.000  u  g   k  v  1.000  t   f   0  t   g  00000      0  +\n",
              "12  b  48.08   6.040  u  g   k  v  0.040  f   f   0  f   g  00000   2690  +"
            ]
          },
          "metadata": {
            "tags": []
          },
          "execution_count": 64
        }
      ]
    },
    {
      "cell_type": "code",
      "metadata": {
        "id": "G82jx9AAUQzR",
        "colab_type": "code",
        "colab": {}
      },
      "source": [
        ""
      ],
      "execution_count": 0,
      "outputs": []
    },
    {
      "cell_type": "code",
      "metadata": {
        "id": "VZP8XvgQc6wa",
        "colab_type": "code",
        "outputId": "5eca2425-16f1-404c-ea13-118baadcbcd0",
        "colab": {
          "base_uri": "https://localhost:8080/",
          "height": 306
        }
      },
      "source": [
        "df.dtypes"
      ],
      "execution_count": 0,
      "outputs": [
        {
          "output_type": "execute_result",
          "data": {
            "text/plain": [
              "b         object\n",
              "30.83     object\n",
              "0        float64\n",
              "u         object\n",
              "g         object\n",
              "w         object\n",
              "v         object\n",
              "1.25     float64\n",
              "t         object\n",
              "t.1       object\n",
              "01         int64\n",
              "f         object\n",
              "g.1       object\n",
              "00202     object\n",
              "0.1        int64\n",
              "+         object\n",
              "dtype: object"
            ]
          },
          "metadata": {
            "tags": []
          },
          "execution_count": 65
        }
      ]
    },
    {
      "cell_type": "code",
      "metadata": {
        "id": "dX2vo1ouVWk5",
        "colab_type": "code",
        "outputId": "ab7df234-6af4-499c-efa5-96e8a615b877",
        "colab": {
          "base_uri": "https://localhost:8080/",
          "height": 34
        }
      },
      "source": [
        "df.isnull().values.any()"
      ],
      "execution_count": 0,
      "outputs": [
        {
          "output_type": "execute_result",
          "data": {
            "text/plain": [
              "False"
            ]
          },
          "metadata": {
            "tags": []
          },
          "execution_count": 66
        }
      ]
    },
    {
      "cell_type": "code",
      "metadata": {
        "id": "sweKrK9ljb5i",
        "colab_type": "code",
        "colab": {}
      },
      "source": [
        "df['30.83'].replace('?', np.NaN, inplace = True)"
      ],
      "execution_count": 0,
      "outputs": []
    },
    {
      "cell_type": "code",
      "metadata": {
        "id": "-T0DjF7QZRb9",
        "colab_type": "code",
        "outputId": "59c7a884-3dde-4bdc-8169-d8817e1964a9",
        "colab": {
          "base_uri": "https://localhost:8080/",
          "height": 306
        }
      },
      "source": [
        "df.replace({'30.83': {'?': np.nan}}, regex=False,inplace=True)\n",
        "df.isnull().sum()"
      ],
      "execution_count": 0,
      "outputs": [
        {
          "output_type": "execute_result",
          "data": {
            "text/plain": [
              "b         0\n",
              "30.83    12\n",
              "0         0\n",
              "u         0\n",
              "g         0\n",
              "w         0\n",
              "v         0\n",
              "1.25      0\n",
              "t         0\n",
              "t.1       0\n",
              "01        0\n",
              "f         0\n",
              "g.1       0\n",
              "00202    13\n",
              "0.1       0\n",
              "+         0\n",
              "dtype: int64"
            ]
          },
          "metadata": {
            "tags": []
          },
          "execution_count": 73
        }
      ]
    },
    {
      "cell_type": "code",
      "metadata": {
        "id": "K_q7w2edZC5U",
        "colab_type": "code",
        "outputId": "79a9f45b-b516-4b9c-87c3-f4a8424c9a4a",
        "colab": {
          "base_uri": "https://localhost:8080/",
          "height": 1071
        }
      },
      "source": [
        "df['30.83'].astype(float)"
      ],
      "execution_count": 0,
      "outputs": [
        {
          "output_type": "execute_result",
          "data": {
            "text/plain": [
              "0      58.67\n",
              "1      24.50\n",
              "2      27.83\n",
              "3      20.17\n",
              "4      32.08\n",
              "5      33.17\n",
              "6      22.92\n",
              "7      54.42\n",
              "8      42.50\n",
              "9      22.08\n",
              "10     29.92\n",
              "11     38.25\n",
              "12     48.08\n",
              "13     45.83\n",
              "14     36.67\n",
              "15     28.25\n",
              "16     23.25\n",
              "17     21.83\n",
              "18     19.17\n",
              "19     25.00\n",
              "20     23.25\n",
              "21     47.75\n",
              "22     27.42\n",
              "23     41.17\n",
              "24     15.83\n",
              "25     47.00\n",
              "26     56.58\n",
              "27     57.42\n",
              "28     42.08\n",
              "29     29.25\n",
              "       ...  \n",
              "659    22.25\n",
              "660    29.83\n",
              "661    23.50\n",
              "662    32.08\n",
              "663    31.08\n",
              "664    31.83\n",
              "665    21.75\n",
              "666    17.92\n",
              "667    30.33\n",
              "668    51.83\n",
              "669    47.17\n",
              "670    25.83\n",
              "671    50.25\n",
              "672    29.50\n",
              "673    37.33\n",
              "674    41.58\n",
              "675    30.58\n",
              "676    19.42\n",
              "677    17.92\n",
              "678    20.08\n",
              "679    19.50\n",
              "680    27.83\n",
              "681    17.08\n",
              "682    36.42\n",
              "683    40.58\n",
              "684    21.08\n",
              "685    22.67\n",
              "686    25.25\n",
              "687    17.92\n",
              "688    35.00\n",
              "Name: 30.83, Length: 689, dtype: float64"
            ]
          },
          "metadata": {
            "tags": []
          },
          "execution_count": 68
        }
      ]
    },
    {
      "cell_type": "code",
      "metadata": {
        "id": "EHAqj2nFZC0D",
        "colab_type": "code",
        "colab": {}
      },
      "source": [
        "df['00202'].replace('?', np.NaN, inplace = True)"
      ],
      "execution_count": 0,
      "outputs": []
    },
    {
      "cell_type": "code",
      "metadata": {
        "id": "NlEtqMa-gio_",
        "colab_type": "code",
        "outputId": "c85dfbb1-c039-4c44-f4b7-1ff27165ff74",
        "colab": {
          "base_uri": "https://localhost:8080/",
          "height": 306
        }
      },
      "source": [
        "df.replace({'00202': {'?': np.nan}}, regex=False,inplace=True)\n",
        "df.isnull().sum()"
      ],
      "execution_count": 0,
      "outputs": [
        {
          "output_type": "execute_result",
          "data": {
            "text/plain": [
              "b         0\n",
              "30.83    12\n",
              "0         0\n",
              "u         0\n",
              "g         0\n",
              "w         0\n",
              "v         0\n",
              "1.25      0\n",
              "t         0\n",
              "t.1       0\n",
              "01        0\n",
              "f         0\n",
              "g.1       0\n",
              "00202    13\n",
              "0.1       0\n",
              "+         0\n",
              "dtype: int64"
            ]
          },
          "metadata": {
            "tags": []
          },
          "execution_count": 70
        }
      ]
    },
    {
      "cell_type": "code",
      "metadata": {
        "id": "romgLEmidd8G",
        "colab_type": "code",
        "outputId": "3bdb4eff-e5e8-472f-e0cc-fb1379f2a37b",
        "colab": {
          "base_uri": "https://localhost:8080/",
          "height": 1071
        }
      },
      "source": [
        "df['00202'].astype(float)"
      ],
      "execution_count": 0,
      "outputs": [
        {
          "output_type": "execute_result",
          "data": {
            "text/plain": [
              "0       43.0\n",
              "1      280.0\n",
              "2      100.0\n",
              "3      120.0\n",
              "4      360.0\n",
              "5      164.0\n",
              "6       80.0\n",
              "7      180.0\n",
              "8       52.0\n",
              "9      128.0\n",
              "10     260.0\n",
              "11       0.0\n",
              "12       0.0\n",
              "13       0.0\n",
              "14     320.0\n",
              "15     396.0\n",
              "16     120.0\n",
              "17       0.0\n",
              "18      96.0\n",
              "19     200.0\n",
              "20     300.0\n",
              "21       0.0\n",
              "22     120.0\n",
              "23     145.0\n",
              "24     100.0\n",
              "25       0.0\n",
              "26       0.0\n",
              "27       0.0\n",
              "28     500.0\n",
              "29     168.0\n",
              "       ...  \n",
              "659      0.0\n",
              "660    216.0\n",
              "661    160.0\n",
              "662    120.0\n",
              "663    160.0\n",
              "664      0.0\n",
              "665    180.0\n",
              "666     80.0\n",
              "667    252.0\n",
              "668    120.0\n",
              "669    465.0\n",
              "670      0.0\n",
              "671    240.0\n",
              "672    256.0\n",
              "673    260.0\n",
              "674    240.0\n",
              "675    129.0\n",
              "676    100.0\n",
              "677      0.0\n",
              "678      0.0\n",
              "679    280.0\n",
              "680    176.0\n",
              "681    140.0\n",
              "682    240.0\n",
              "683    400.0\n",
              "684    260.0\n",
              "685    200.0\n",
              "686    200.0\n",
              "687    280.0\n",
              "688      0.0\n",
              "Name: 00202, Length: 689, dtype: float64"
            ]
          },
          "metadata": {
            "tags": []
          },
          "execution_count": 74
        }
      ]
    },
    {
      "cell_type": "code",
      "metadata": {
        "id": "9eplbWj5igpc",
        "colab_type": "code",
        "outputId": "542f996c-301a-45de-c099-e384b3ee7ce7",
        "colab": {
          "base_uri": "https://localhost:8080/",
          "height": 204
        }
      },
      "source": [
        "df.columns = ['A1', 'A2', 'A3', 'A4', 'A5', 'A6', 'A7', 'A8', 'A9', 'A10',\n",
        "             'A11', 'A12', 'A13', 'A14', 'A15', 'A16']\n",
        "df.tail()"
      ],
      "execution_count": 0,
      "outputs": [
        {
          "output_type": "execute_result",
          "data": {
            "text/html": [
              "<div>\n",
              "<style scoped>\n",
              "    .dataframe tbody tr th:only-of-type {\n",
              "        vertical-align: middle;\n",
              "    }\n",
              "\n",
              "    .dataframe tbody tr th {\n",
              "        vertical-align: top;\n",
              "    }\n",
              "\n",
              "    .dataframe thead th {\n",
              "        text-align: right;\n",
              "    }\n",
              "</style>\n",
              "<table border=\"1\" class=\"dataframe\">\n",
              "  <thead>\n",
              "    <tr style=\"text-align: right;\">\n",
              "      <th></th>\n",
              "      <th>A1</th>\n",
              "      <th>A2</th>\n",
              "      <th>A3</th>\n",
              "      <th>A4</th>\n",
              "      <th>A5</th>\n",
              "      <th>A6</th>\n",
              "      <th>A7</th>\n",
              "      <th>A8</th>\n",
              "      <th>A9</th>\n",
              "      <th>A10</th>\n",
              "      <th>A11</th>\n",
              "      <th>A12</th>\n",
              "      <th>A13</th>\n",
              "      <th>A14</th>\n",
              "      <th>A15</th>\n",
              "      <th>A16</th>\n",
              "    </tr>\n",
              "  </thead>\n",
              "  <tbody>\n",
              "    <tr>\n",
              "      <th>684</th>\n",
              "      <td>b</td>\n",
              "      <td>21.08</td>\n",
              "      <td>10.085</td>\n",
              "      <td>y</td>\n",
              "      <td>p</td>\n",
              "      <td>e</td>\n",
              "      <td>h</td>\n",
              "      <td>1.25</td>\n",
              "      <td>f</td>\n",
              "      <td>f</td>\n",
              "      <td>0</td>\n",
              "      <td>f</td>\n",
              "      <td>g</td>\n",
              "      <td>00260</td>\n",
              "      <td>0</td>\n",
              "      <td>-</td>\n",
              "    </tr>\n",
              "    <tr>\n",
              "      <th>685</th>\n",
              "      <td>a</td>\n",
              "      <td>22.67</td>\n",
              "      <td>0.750</td>\n",
              "      <td>u</td>\n",
              "      <td>g</td>\n",
              "      <td>c</td>\n",
              "      <td>v</td>\n",
              "      <td>2.00</td>\n",
              "      <td>f</td>\n",
              "      <td>t</td>\n",
              "      <td>2</td>\n",
              "      <td>t</td>\n",
              "      <td>g</td>\n",
              "      <td>00200</td>\n",
              "      <td>394</td>\n",
              "      <td>-</td>\n",
              "    </tr>\n",
              "    <tr>\n",
              "      <th>686</th>\n",
              "      <td>a</td>\n",
              "      <td>25.25</td>\n",
              "      <td>13.500</td>\n",
              "      <td>y</td>\n",
              "      <td>p</td>\n",
              "      <td>ff</td>\n",
              "      <td>ff</td>\n",
              "      <td>2.00</td>\n",
              "      <td>f</td>\n",
              "      <td>t</td>\n",
              "      <td>1</td>\n",
              "      <td>t</td>\n",
              "      <td>g</td>\n",
              "      <td>00200</td>\n",
              "      <td>1</td>\n",
              "      <td>-</td>\n",
              "    </tr>\n",
              "    <tr>\n",
              "      <th>687</th>\n",
              "      <td>b</td>\n",
              "      <td>17.92</td>\n",
              "      <td>0.205</td>\n",
              "      <td>u</td>\n",
              "      <td>g</td>\n",
              "      <td>aa</td>\n",
              "      <td>v</td>\n",
              "      <td>0.04</td>\n",
              "      <td>f</td>\n",
              "      <td>f</td>\n",
              "      <td>0</td>\n",
              "      <td>f</td>\n",
              "      <td>g</td>\n",
              "      <td>00280</td>\n",
              "      <td>750</td>\n",
              "      <td>-</td>\n",
              "    </tr>\n",
              "    <tr>\n",
              "      <th>688</th>\n",
              "      <td>b</td>\n",
              "      <td>35.00</td>\n",
              "      <td>3.375</td>\n",
              "      <td>u</td>\n",
              "      <td>g</td>\n",
              "      <td>c</td>\n",
              "      <td>h</td>\n",
              "      <td>8.29</td>\n",
              "      <td>f</td>\n",
              "      <td>f</td>\n",
              "      <td>0</td>\n",
              "      <td>t</td>\n",
              "      <td>g</td>\n",
              "      <td>00000</td>\n",
              "      <td>0</td>\n",
              "      <td>-</td>\n",
              "    </tr>\n",
              "  </tbody>\n",
              "</table>\n",
              "</div>"
            ],
            "text/plain": [
              "    A1     A2      A3 A4 A5  A6  A7    A8 A9 A10  A11 A12 A13    A14  A15 A16\n",
              "684  b  21.08  10.085  y  p   e   h  1.25  f   f    0   f   g  00260    0   -\n",
              "685  a  22.67   0.750  u  g   c   v  2.00  f   t    2   t   g  00200  394   -\n",
              "686  a  25.25  13.500  y  p  ff  ff  2.00  f   t    1   t   g  00200    1   -\n",
              "687  b  17.92   0.205  u  g  aa   v  0.04  f   f    0   f   g  00280  750   -\n",
              "688  b  35.00   3.375  u  g   c   h  8.29  f   f    0   t   g  00000    0   -"
            ]
          },
          "metadata": {
            "tags": []
          },
          "execution_count": 75
        }
      ]
    },
    {
      "cell_type": "code",
      "metadata": {
        "id": "-AS5w77djlH_",
        "colab_type": "code",
        "colab": {
          "base_uri": "https://localhost:8080/",
          "height": 1071
        },
        "outputId": "af06ea23-2176-427c-dc79-ea088fff5a8c"
      },
      "source": [
        "df.A1.str.replace('?', '')"
      ],
      "execution_count": 94,
      "outputs": [
        {
          "output_type": "execute_result",
          "data": {
            "text/plain": [
              "0      a\n",
              "1      a\n",
              "2      b\n",
              "3      b\n",
              "4      b\n",
              "5      b\n",
              "6      a\n",
              "7      b\n",
              "8      b\n",
              "9      b\n",
              "10     b\n",
              "11     a\n",
              "12     b\n",
              "13     a\n",
              "14     b\n",
              "15     b\n",
              "16     a\n",
              "17     b\n",
              "18     a\n",
              "19     b\n",
              "20     b\n",
              "21     a\n",
              "22     a\n",
              "23     a\n",
              "24     a\n",
              "25     a\n",
              "26     b\n",
              "27     b\n",
              "28     b\n",
              "29     b\n",
              "      ..\n",
              "659    b\n",
              "660    b\n",
              "661    a\n",
              "662    b\n",
              "663    b\n",
              "664    b\n",
              "665    a\n",
              "666    a\n",
              "667    b\n",
              "668    b\n",
              "669    b\n",
              "670    b\n",
              "671    a\n",
              "672     \n",
              "673    a\n",
              "674    a\n",
              "675    a\n",
              "676    b\n",
              "677    a\n",
              "678    a\n",
              "679    b\n",
              "680    b\n",
              "681    b\n",
              "682    b\n",
              "683    b\n",
              "684    b\n",
              "685    a\n",
              "686    a\n",
              "687    b\n",
              "688    b\n",
              "Name: A1, Length: 689, dtype: object"
            ]
          },
          "metadata": {
            "tags": []
          },
          "execution_count": 94
        }
      ]
    },
    {
      "cell_type": "code",
      "metadata": {
        "id": "cACZAQSTdypM",
        "colab_type": "code",
        "outputId": "731dc92d-ed0a-41b6-e58f-e65ca830e1d1",
        "colab": {
          "base_uri": "https://localhost:8080/",
          "height": 306
        }
      },
      "source": [
        "df.dtypes"
      ],
      "execution_count": 0,
      "outputs": [
        {
          "output_type": "execute_result",
          "data": {
            "text/plain": [
              "A1      object\n",
              "A2      object\n",
              "A3     float64\n",
              "A4      object\n",
              "A5      object\n",
              "A6      object\n",
              "A7      object\n",
              "A8     float64\n",
              "A9      object\n",
              "A10     object\n",
              "A11      int64\n",
              "A12     object\n",
              "A13     object\n",
              "A14     object\n",
              "A15      int64\n",
              "A16     object\n",
              "dtype: object"
            ]
          },
          "metadata": {
            "tags": []
          },
          "execution_count": 76
        }
      ]
    },
    {
      "cell_type": "markdown",
      "metadata": {
        "id": "G7rLytbrO38L",
        "colab_type": "text"
      },
      "source": [
        "## Part 2 - Exploring data, Testing hypotheses\n",
        "\n",
        "The only thing we really know about this data is that A16 is the class label. Besides that, we have 6 continuous (float) features and 9 categorical features.\n",
        "\n",
        "Explore the data: you can use whatever approach (tables, utility functions, visualizations) to get an impression of the distributions and relationships of the variables. In general, your goal is to understand how the features are different when grouped by the two class labels (`+` and `-`).\n",
        "\n",
        "For the 6 continuous features, how are they different when split between the two class labels? Choose two features to run t-tests (again split by class label) - specifically, select one feature that is *extremely* different between the classes, and another feature that is notably less different (though perhaps still \"statistically significantly\" different). You may have to explore more than two features to do this.\n",
        "\n",
        "For the categorical features, explore by creating \"cross tabs\" (aka [contingency tables](https://en.wikipedia.org/wiki/Contingency_table)) between them and the class label, and apply the Chi-squared test to them. [pandas.crosstab](http://pandas.pydata.org/pandas-docs/stable/reference/api/pandas.crosstab.html) can create contingency tables, and [scipy.stats.chi2_contingency](https://docs.scipy.org/doc/scipy/reference/generated/scipy.stats.chi2_contingency.html) can calculate the Chi-squared statistic for them.\n",
        "\n",
        "There are 9 categorical features - as with the t-test, try to find one where the Chi-squared test returns an extreme result (rejecting the null that the data are independent), and one where it is less extreme.\n",
        "\n",
        "**NOTE** - \"less extreme\" just means smaller test statistic/larger p-value. Even the least extreme differences may be strongly statistically significant.\n",
        "\n",
        "Your *main* goal is the hypothesis tests, so don't spend too much time on the exploration/visualization piece. That is just a means to an end - use simple visualizations, such as boxplots or a scatter matrix (both built in to pandas), to get a feel for the overall distribution of the variables.\n",
        "\n",
        "This is challenging, so manage your time and aim for a baseline of at least running two t-tests and two Chi-squared tests before polishing. And don't forget to answer the questions in part 3, even if your results in this part aren't what you want them to be."
      ]
    },
    {
      "cell_type": "code",
      "metadata": {
        "id": "ky1BpXsysDKj",
        "colab_type": "code",
        "colab": {}
      },
      "source": [
        "from scipy.stats import ttest_ind, ttest_rel, chisquare\n",
        "import statistics as stats\n",
        "import seaborn as sns"
      ],
      "execution_count": 0,
      "outputs": []
    },
    {
      "cell_type": "code",
      "metadata": {
        "id": "HnDvVg7kreRo",
        "colab_type": "code",
        "colab": {}
      },
      "source": [
        "dfa8 = df['A8']\n",
        "dfa11 = df['A11']"
      ],
      "execution_count": 0,
      "outputs": []
    },
    {
      "cell_type": "code",
      "metadata": {
        "id": "3ALROAPUruNc",
        "colab_type": "code",
        "colab": {
          "base_uri": "https://localhost:8080/",
          "height": 34
        },
        "outputId": "7f7de81e-5b4b-4119-c934-e70c4938eed2"
      },
      "source": [
        "dfa8.shape"
      ],
      "execution_count": 100,
      "outputs": [
        {
          "output_type": "execute_result",
          "data": {
            "text/plain": [
              "(689,)"
            ]
          },
          "metadata": {
            "tags": []
          },
          "execution_count": 100
        }
      ]
    },
    {
      "cell_type": "code",
      "metadata": {
        "id": "juPJ5oqjs-7e",
        "colab_type": "code",
        "colab": {
          "base_uri": "https://localhost:8080/",
          "height": 34
        },
        "outputId": "a5b2e31b-4c33-4969-aa78-316e84595d78"
      },
      "source": [
        "dfa11.shape"
      ],
      "execution_count": 101,
      "outputs": [
        {
          "output_type": "execute_result",
          "data": {
            "text/plain": [
              "(689,)"
            ]
          },
          "metadata": {
            "tags": []
          },
          "execution_count": 101
        }
      ]
    },
    {
      "cell_type": "code",
      "metadata": {
        "id": "3cR6dS9htRZw",
        "colab_type": "code",
        "colab": {
          "base_uri": "https://localhost:8080/",
          "height": 153
        },
        "outputId": "b6a1473e-fe94-47be-e311-e0cb20679011"
      },
      "source": [
        "for sample in [dfa8, dfa11]:\n",
        "    print(f\"Mean: {sample.mean()}\")\n",
        "    print(f\"Standard Deviation: {sample.std()}\")\n",
        "    print(f\"Variance: {sample.var()}\")\n",
        "    print(\"---\"*10)"
      ],
      "execution_count": 102,
      "outputs": [
        {
          "output_type": "stream",
          "text": [
            "Mean: 2.2248185776487643\n",
            "Standard Deviation: 3.348738612384225\n",
            "Variance: 11.214050294073026\n",
            "------------------------------\n",
            "Mean: 2.402031930333817\n",
            "Standard Deviation: 4.866179730300066\n",
            "Variance: 23.679705167583222\n",
            "------------------------------\n"
          ],
          "name": "stdout"
        }
      ]
    },
    {
      "cell_type": "code",
      "metadata": {
        "id": "HcbNPfKEtsXd",
        "colab_type": "code",
        "colab": {
          "base_uri": "https://localhost:8080/",
          "height": 269
        },
        "outputId": "3794e9c2-33fe-4312-a805-1b3174fa15f5"
      },
      "source": [
        "sns.kdeplot(dfa8, color='r');\n",
        "sns.kdeplot(dfa11, color='b');"
      ],
      "execution_count": 105,
      "outputs": [
        {
          "output_type": "display_data",
          "data": {
            "image/png": "[encoded data removed]",
            "text/plain": [
              "<Figure size 432x288 with 1 Axes>"
            ]
          },
          "metadata": {
            "tags": []
          }
        }
      ]
    },
    {
      "cell_type": "code",
      "metadata": {
        "id": "k9Oc3e--uQ_S",
        "colab_type": "code",
        "colab": {}
      },
      "source": [
        "stats, pvalue = ttest_ind(dfa8, dfa11)"
      ],
      "execution_count": 0,
      "outputs": []
    },
    {
      "cell_type": "code",
      "metadata": {
        "id": "LTPN6OH5ue9P",
        "colab_type": "code",
        "colab": {
          "base_uri": "https://localhost:8080/",
          "height": 34
        },
        "outputId": "ad25ab23-cc4b-4bb9-ff9f-cb44fb27b98e"
      },
      "source": [
        "stats"
      ],
      "execution_count": 108,
      "outputs": [
        {
          "output_type": "execute_result",
          "data": {
            "text/plain": [
              "-0.7874666977959015"
            ]
          },
          "metadata": {
            "tags": []
          },
          "execution_count": 108
        }
      ]
    },
    {
      "cell_type": "code",
      "metadata": {
        "id": "ljv2gaKsuhQa",
        "colab_type": "code",
        "colab": {
          "base_uri": "https://localhost:8080/",
          "height": 34
        },
        "outputId": "ba068759-1cfe-4a56-e434-5f44dd532a49"
      },
      "source": [
        "pvalue"
      ],
      "execution_count": 109,
      "outputs": [
        {
          "output_type": "execute_result",
          "data": {
            "text/plain": [
              "0.4311443337786607"
            ]
          },
          "metadata": {
            "tags": []
          },
          "execution_count": 109
        }
      ]
    },
    {
      "cell_type": "code",
      "metadata": {
        "id": "MQnD8VLs0Omp",
        "colab_type": "code",
        "colab": {}
      },
      "source": [
        "t_dist = np.random.standard_t(df=100, size=100)"
      ],
      "execution_count": 0,
      "outputs": []
    },
    {
      "cell_type": "code",
      "metadata": {
        "id": "r_Wb-DNP0SU1",
        "colab_type": "code",
        "colab": {
          "base_uri": "https://localhost:8080/",
          "height": 269
        },
        "outputId": "d2b4f5f7-2df1-423a-956d-788937794c65"
      },
      "source": [
        "ax = sns.distplot(t_dist, color='gold')"
      ],
      "execution_count": 128,
      "outputs": [
        {
          "output_type": "display_data",
          "data": {
            "image/png": "[encoded data removed]",
            "text/plain": [
              "<Figure size 432x288 with 1 Axes>"
            ]
          },
          "metadata": {
            "tags": []
          }
        }
      ]
    },
    {
      "cell_type": "code",
      "metadata": {
        "id": "4Qd6SpAhyvYf",
        "colab_type": "code",
        "colab": {}
      },
      "source": [
        "dfa3 = df['A3']\n",
        "dfa15 = df['A15']"
      ],
      "execution_count": 0,
      "outputs": []
    },
    {
      "cell_type": "code",
      "metadata": {
        "id": "j33poEBIzv5q",
        "colab_type": "code",
        "colab": {
          "base_uri": "https://localhost:8080/",
          "height": 153
        },
        "outputId": "0b60ad0c-3d79-478b-ef96-4e5568bbb350"
      },
      "source": [
        "for sample2 in [dfa3, dfa15]:\n",
        "    print(f\"Mean: {sample2.mean()}\")\n",
        "    print(f\"Standard Deviation: {sample2.std()}\")\n",
        "    print(f\"Variance: {sample2.var()}\")\n",
        "    print(\"---\"*10)"
      ],
      "execution_count": 114,
      "outputs": [
        {
          "output_type": "stream",
          "text": [
            "Mean: 4.765631349782292\n",
            "Standard Deviation: 4.978470362640537\n",
            "Variance: 24.785167151690203\n",
            "------------------------------\n",
            "Mean: 1018.8621190130624\n",
            "Standard Deviation: 5213.743148827868\n",
            "Variance: 27183117.621949535\n",
            "------------------------------\n"
          ],
          "name": "stdout"
        }
      ]
    },
    {
      "cell_type": "code",
      "metadata": {
        "id": "-ew_ckEnzpIh",
        "colab_type": "code",
        "colab": {
          "base_uri": "https://localhost:8080/",
          "height": 269
        },
        "outputId": "ae36b532-ada3-480c-d16d-e8f233a1f01a"
      },
      "source": [
        "sns.kdeplot(dfa3, color='orange');\n",
        "sns.kdeplot(dfa15, color='black');"
      ],
      "execution_count": 129,
      "outputs": [
        {
          "output_type": "display_data",
          "data": {
            "image/png": "[encoded data removed]",
            "text/plain": [
              "<Figure size 432x288 with 1 Axes>"
            ]
          },
          "metadata": {
            "tags": []
          }
        }
      ]
    },
    {
      "cell_type": "code",
      "metadata": {
        "id": "QSf9fGHezZz7",
        "colab_type": "code",
        "colab": {
          "base_uri": "https://localhost:8080/",
          "height": 34
        },
        "outputId": "63ab78de-3516-43d0-c18d-4d50ab765e97"
      },
      "source": [
        "ttest_rel(dfa3, dfa15)"
      ],
      "execution_count": 133,
      "outputs": [
        {
          "output_type": "execute_result",
          "data": {
            "text/plain": [
              "Ttest_relResult(statistic=-5.10610858299884, pvalue=4.2619421268186154e-07)"
            ]
          },
          "metadata": {
            "tags": []
          },
          "execution_count": 133
        }
      ]
    },
    {
      "cell_type": "code",
      "metadata": {
        "id": "_nqcgc0yzm68",
        "colab_type": "code",
        "outputId": "237f8b81-5818-4978-a084-0afc81d76f4b",
        "colab": {
          "base_uri": "https://localhost:8080/",
          "height": 173
        }
      },
      "source": [
        "ct = pd.crosstab(df['A1'], df['A16'], dropna = True)\n",
        "ct"
      ],
      "execution_count": 134,
      "outputs": [
        {
          "output_type": "execute_result",
          "data": {
            "text/html": [
              "<div>\n",
              "<style scoped>\n",
              "    .dataframe tbody tr th:only-of-type {\n",
              "        vertical-align: middle;\n",
              "    }\n",
              "\n",
              "    .dataframe tbody tr th {\n",
              "        vertical-align: top;\n",
              "    }\n",
              "\n",
              "    .dataframe thead th {\n",
              "        text-align: right;\n",
              "    }\n",
              "</style>\n",
              "<table border=\"1\" class=\"dataframe\">\n",
              "  <thead>\n",
              "    <tr style=\"text-align: right;\">\n",
              "      <th>A16</th>\n",
              "      <th>+</th>\n",
              "      <th>-</th>\n",
              "    </tr>\n",
              "    <tr>\n",
              "      <th>A1</th>\n",
              "      <th></th>\n",
              "      <th></th>\n",
              "    </tr>\n",
              "  </thead>\n",
              "  <tbody>\n",
              "    <tr>\n",
              "      <th>?</th>\n",
              "      <td>3</td>\n",
              "      <td>9</td>\n",
              "    </tr>\n",
              "    <tr>\n",
              "      <th>a</th>\n",
              "      <td>98</td>\n",
              "      <td>112</td>\n",
              "    </tr>\n",
              "    <tr>\n",
              "      <th>b</th>\n",
              "      <td>205</td>\n",
              "      <td>262</td>\n",
              "    </tr>\n",
              "  </tbody>\n",
              "</table>\n",
              "</div>"
            ],
            "text/plain": [
              "A16    +    -\n",
              "A1           \n",
              "?      3    9\n",
              "a     98  112\n",
              "b    205  262"
            ]
          },
          "metadata": {
            "tags": []
          },
          "execution_count": 134
        }
      ]
    },
    {
      "cell_type": "code",
      "metadata": {
        "id": "tULrxqVGqUs0",
        "colab_type": "code",
        "colab": {}
      },
      "source": [
        "dfa1 = df['A1']\n",
        "dfa16 = df['A16']"
      ],
      "execution_count": 0,
      "outputs": []
    },
    {
      "cell_type": "code",
      "metadata": {
        "id": "_f68W3523Efi",
        "colab_type": "code",
        "colab": {
          "base_uri": "https://localhost:8080/",
          "height": 34
        },
        "outputId": "ed5dd992-9698-4e8c-931b-b299fd768c38"
      },
      "source": [
        "print(chisquare(df['A8'], axis=None))"
      ],
      "execution_count": 142,
      "outputs": [
        {
          "output_type": "stream",
          "text": [
            "Power_divergenceResult(statistic=3467.818311044426, pvalue=0.0)\n"
          ],
          "name": "stdout"
        }
      ]
    },
    {
      "cell_type": "markdown",
      "metadata": {
        "id": "ZM8JckA2bgnp",
        "colab_type": "text"
      },
      "source": [
        "## Part 3 - Analysis and Interpretation\n",
        "\n",
        "Now that you've looked at the data, answer the following questions:\n",
        "\n",
        "- Interpret and explain the two t-tests you ran - what do they tell you about the relationships between the continuous features you selected and the class labels?\n",
        "- Interpret and explain the two Chi-squared tests you ran - what do they tell you about the relationships between the categorical features you selected and the class labels?\n",
        "- What was the most challenging part of this sprint challenge?\n",
        "\n",
        "Answer with text, but feel free to intersperse example code/results or refer to it from earlier."
      ]
    },
    {
      "cell_type": "code",
      "metadata": {
        "id": "uzCQ3sQg2dTh",
        "colab_type": "code",
        "colab": {}
      },
      "source": [
        ""
      ],
      "execution_count": 0,
      "outputs": []
    },
    {
      "cell_type": "markdown",
      "metadata": {
        "id": "LIozLDNG2Uhu",
        "colab_type": "text"
      },
      "source": [
        "- The last t-test on the two continuous feature i ran with had a completely opposite relation.\n",
        "\n",
        "- Did not get to complete the relationship for the chi-squared tests.\n",
        "\n",
        "- The most challeneging part was trying to figure out what to compare the t-tests with as well as the chi-squared tests. and not having anything about the 'Bayeshian Inference'.  Had difficulty trying to understand chi-squared and hypothesis testing."
      ]
    },
    {
      "cell_type": "code",
      "metadata": {
        "id": "qrZl32Bc5Fda",
        "colab_type": "code",
        "colab": {}
      },
      "source": [
        ""
      ],
      "execution_count": 0,
      "outputs": []
    }
  ]
}